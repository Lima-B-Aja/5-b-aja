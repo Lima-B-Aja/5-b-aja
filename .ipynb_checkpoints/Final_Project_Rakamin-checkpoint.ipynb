{
 "cells": [
  {
   "cell_type": "markdown",
   "id": "5617d2a0",
   "metadata": {
    "jp-MarkdownHeadingCollapsed": true,
    "tags": []
   },
   "source": [
    "# Identitas Kelompok\n",
    "Nomor Kelompok: 5\n",
    "\n",
    "Nama Kelompok: Lima-B-Aja\n",
    "\n",
    "Ketua Kelompok: Fajar Arahman\n",
    "\n",
    "Anggota kelompok:\n",
    "1. MUHAMAD FAHMI AMIQ\n",
    "2. FAJAR ARAHMAN\n",
    "3. AMMAR KHAQ BAASIR\n",
    "4. LIANUS\n",
    "5. INDAH LESTARI\n",
    "6. NADILA\n",
    "7. FATIHAH\n",
    "8. Meilia Choirun Nisa \n",
    "\n",
    "Pilihan Dataset: E-commerce Churn Rate"
   ]
  },
  {
   "cell_type": "markdown",
   "id": "e201e3f4",
   "metadata": {
    "tags": []
   },
   "source": [
    "# Import Library & Load Dataset"
   ]
  },
  {
   "cell_type": "code",
   "execution_count": 1,
   "id": "b362fdc3-0545-479c-8815-10f55bd5741a",
   "metadata": {
    "tags": []
   },
   "outputs": [
    {
     "name": "stdout",
     "output_type": "stream",
     "text": [
      "1.3.5\n",
      "1.21.5\n",
      "3.2.2\n",
      "0.11.2\n"
     ]
    }
   ],
   "source": [
    "import pandas as pd\n",
    "import numpy as np\n",
    "import matplotlib\n",
    "import matplotlib.pyplot as plt\n",
    "import seaborn as sns\n",
    "import plotly.express as px\n",
    "print(pd.__version__)\n",
    "print(np.__version__)\n",
    "print(matplotlib.__version__)\n",
    "print(sns.__version__)"
   ]
  },
  {
   "cell_type": "code",
   "execution_count": 2,
   "id": "e75dae4b",
   "metadata": {
    "tags": []
   },
   "outputs": [],
   "source": [
    "from matplotlib import rcParams\n",
    "\n",
    "rcParams['figure.figsize'] = 12, 4\n",
    "rcParams['lines.linewidth'] = 3\n",
    "rcParams['xtick.labelsize'] = 'x-large'\n",
    "rcParams['ytick.labelsize'] = 'x-large'"
   ]
  },
  {
   "cell_type": "code",
   "execution_count": 3,
   "id": "5cdd2e11-ea81-43be-bfa1-5c55d29783b1",
   "metadata": {
    "tags": []
   },
   "outputs": [
    {
     "data": {
      "text/html": [
       "<div>\n",
       "<style scoped>\n",
       "    .dataframe tbody tr th:only-of-type {\n",
       "        vertical-align: middle;\n",
       "    }\n",
       "\n",
       "    .dataframe tbody tr th {\n",
       "        vertical-align: top;\n",
       "    }\n",
       "\n",
       "    .dataframe thead th {\n",
       "        text-align: right;\n",
       "    }\n",
       "</style>\n",
       "<table border=\"1\" class=\"dataframe\">\n",
       "  <thead>\n",
       "    <tr style=\"text-align: right;\">\n",
       "      <th></th>\n",
       "      <th>CustomerID</th>\n",
       "      <th>Churn</th>\n",
       "      <th>Tenure</th>\n",
       "      <th>PreferredLoginDevice</th>\n",
       "      <th>CityTier</th>\n",
       "      <th>WarehouseToHome</th>\n",
       "      <th>PreferredPaymentMode</th>\n",
       "      <th>Gender</th>\n",
       "      <th>HourSpendOnApp</th>\n",
       "      <th>NumberOfDeviceRegistered</th>\n",
       "      <th>PreferedOrderCat</th>\n",
       "      <th>SatisfactionScore</th>\n",
       "      <th>MaritalStatus</th>\n",
       "      <th>NumberOfAddress</th>\n",
       "      <th>Complain</th>\n",
       "      <th>OrderAmountHikeFromlastYear</th>\n",
       "      <th>CouponUsed</th>\n",
       "      <th>OrderCount</th>\n",
       "      <th>DaySinceLastOrder</th>\n",
       "      <th>CashbackAmount</th>\n",
       "    </tr>\n",
       "  </thead>\n",
       "  <tbody>\n",
       "    <tr>\n",
       "      <th>0</th>\n",
       "      <td>50001</td>\n",
       "      <td>1</td>\n",
       "      <td>4.0</td>\n",
       "      <td>Mobile Phone</td>\n",
       "      <td>3</td>\n",
       "      <td>6.0</td>\n",
       "      <td>Debit Card</td>\n",
       "      <td>Female</td>\n",
       "      <td>3.0</td>\n",
       "      <td>3</td>\n",
       "      <td>Laptop &amp; Accessory</td>\n",
       "      <td>2</td>\n",
       "      <td>Single</td>\n",
       "      <td>9</td>\n",
       "      <td>1</td>\n",
       "      <td>11.0</td>\n",
       "      <td>1.0</td>\n",
       "      <td>1.0</td>\n",
       "      <td>5.0</td>\n",
       "      <td>159.93</td>\n",
       "    </tr>\n",
       "    <tr>\n",
       "      <th>1</th>\n",
       "      <td>50002</td>\n",
       "      <td>1</td>\n",
       "      <td>NaN</td>\n",
       "      <td>Phone</td>\n",
       "      <td>1</td>\n",
       "      <td>8.0</td>\n",
       "      <td>UPI</td>\n",
       "      <td>Male</td>\n",
       "      <td>3.0</td>\n",
       "      <td>4</td>\n",
       "      <td>Mobile</td>\n",
       "      <td>3</td>\n",
       "      <td>Single</td>\n",
       "      <td>7</td>\n",
       "      <td>1</td>\n",
       "      <td>15.0</td>\n",
       "      <td>0.0</td>\n",
       "      <td>1.0</td>\n",
       "      <td>0.0</td>\n",
       "      <td>120.90</td>\n",
       "    </tr>\n",
       "    <tr>\n",
       "      <th>2</th>\n",
       "      <td>50003</td>\n",
       "      <td>1</td>\n",
       "      <td>NaN</td>\n",
       "      <td>Phone</td>\n",
       "      <td>1</td>\n",
       "      <td>30.0</td>\n",
       "      <td>Debit Card</td>\n",
       "      <td>Male</td>\n",
       "      <td>2.0</td>\n",
       "      <td>4</td>\n",
       "      <td>Mobile</td>\n",
       "      <td>3</td>\n",
       "      <td>Single</td>\n",
       "      <td>6</td>\n",
       "      <td>1</td>\n",
       "      <td>14.0</td>\n",
       "      <td>0.0</td>\n",
       "      <td>1.0</td>\n",
       "      <td>3.0</td>\n",
       "      <td>120.28</td>\n",
       "    </tr>\n",
       "    <tr>\n",
       "      <th>3</th>\n",
       "      <td>50004</td>\n",
       "      <td>1</td>\n",
       "      <td>0.0</td>\n",
       "      <td>Phone</td>\n",
       "      <td>3</td>\n",
       "      <td>15.0</td>\n",
       "      <td>Debit Card</td>\n",
       "      <td>Male</td>\n",
       "      <td>2.0</td>\n",
       "      <td>4</td>\n",
       "      <td>Laptop &amp; Accessory</td>\n",
       "      <td>5</td>\n",
       "      <td>Single</td>\n",
       "      <td>8</td>\n",
       "      <td>0</td>\n",
       "      <td>23.0</td>\n",
       "      <td>0.0</td>\n",
       "      <td>1.0</td>\n",
       "      <td>3.0</td>\n",
       "      <td>134.07</td>\n",
       "    </tr>\n",
       "    <tr>\n",
       "      <th>4</th>\n",
       "      <td>50005</td>\n",
       "      <td>1</td>\n",
       "      <td>0.0</td>\n",
       "      <td>Phone</td>\n",
       "      <td>1</td>\n",
       "      <td>12.0</td>\n",
       "      <td>CC</td>\n",
       "      <td>Male</td>\n",
       "      <td>NaN</td>\n",
       "      <td>3</td>\n",
       "      <td>Mobile</td>\n",
       "      <td>5</td>\n",
       "      <td>Single</td>\n",
       "      <td>3</td>\n",
       "      <td>0</td>\n",
       "      <td>11.0</td>\n",
       "      <td>1.0</td>\n",
       "      <td>1.0</td>\n",
       "      <td>3.0</td>\n",
       "      <td>129.60</td>\n",
       "    </tr>\n",
       "  </tbody>\n",
       "</table>\n",
       "</div>"
      ],
      "text/plain": [
       "   CustomerID  Churn  Tenure PreferredLoginDevice  CityTier  WarehouseToHome  \\\n",
       "0       50001      1     4.0         Mobile Phone         3              6.0   \n",
       "1       50002      1     NaN                Phone         1              8.0   \n",
       "2       50003      1     NaN                Phone         1             30.0   \n",
       "3       50004      1     0.0                Phone         3             15.0   \n",
       "4       50005      1     0.0                Phone         1             12.0   \n",
       "\n",
       "  PreferredPaymentMode  Gender  HourSpendOnApp  NumberOfDeviceRegistered  \\\n",
       "0           Debit Card  Female             3.0                         3   \n",
       "1                  UPI    Male             3.0                         4   \n",
       "2           Debit Card    Male             2.0                         4   \n",
       "3           Debit Card    Male             2.0                         4   \n",
       "4                   CC    Male             NaN                         3   \n",
       "\n",
       "     PreferedOrderCat  SatisfactionScore MaritalStatus  NumberOfAddress  \\\n",
       "0  Laptop & Accessory                  2        Single                9   \n",
       "1              Mobile                  3        Single                7   \n",
       "2              Mobile                  3        Single                6   \n",
       "3  Laptop & Accessory                  5        Single                8   \n",
       "4              Mobile                  5        Single                3   \n",
       "\n",
       "   Complain  OrderAmountHikeFromlastYear  CouponUsed  OrderCount  \\\n",
       "0         1                         11.0         1.0         1.0   \n",
       "1         1                         15.0         0.0         1.0   \n",
       "2         1                         14.0         0.0         1.0   \n",
       "3         0                         23.0         0.0         1.0   \n",
       "4         0                         11.0         1.0         1.0   \n",
       "\n",
       "   DaySinceLastOrder  CashbackAmount  \n",
       "0                5.0          159.93  \n",
       "1                0.0          120.90  \n",
       "2                3.0          120.28  \n",
       "3                3.0          134.07  \n",
       "4                3.0          129.60  "
      ]
     },
     "execution_count": 3,
     "metadata": {},
     "output_type": "execute_result"
    }
   ],
   "source": [
    "df = pd.read_excel('dataset/e_commerce.xlsx', sheet_name=1)\n",
    "df.head()"
   ]
  },
  {
   "cell_type": "markdown",
   "id": "2cef482e",
   "metadata": {
    "tags": []
   },
   "source": [
    "# 1. Descriptive Statistics"
   ]
  },
  {
   "cell_type": "code",
   "execution_count": 4,
   "id": "e31e5c65-0cb7-4599-9b29-e8127b7e16da",
   "metadata": {
    "tags": []
   },
   "outputs": [
    {
     "name": "stdout",
     "output_type": "stream",
     "text": [
      "<class 'pandas.core.frame.DataFrame'>\n",
      "RangeIndex: 5630 entries, 0 to 5629\n",
      "Data columns (total 20 columns):\n",
      " #   Column                       Non-Null Count  Dtype  \n",
      "---  ------                       --------------  -----  \n",
      " 0   CustomerID                   5630 non-null   int64  \n",
      " 1   Churn                        5630 non-null   int64  \n",
      " 2   Tenure                       5366 non-null   float64\n",
      " 3   PreferredLoginDevice         5630 non-null   object \n",
      " 4   CityTier                     5630 non-null   int64  \n",
      " 5   WarehouseToHome              5379 non-null   float64\n",
      " 6   PreferredPaymentMode         5630 non-null   object \n",
      " 7   Gender                       5630 non-null   object \n",
      " 8   HourSpendOnApp               5375 non-null   float64\n",
      " 9   NumberOfDeviceRegistered     5630 non-null   int64  \n",
      " 10  PreferedOrderCat             5630 non-null   object \n",
      " 11  SatisfactionScore            5630 non-null   int64  \n",
      " 12  MaritalStatus                5630 non-null   object \n",
      " 13  NumberOfAddress              5630 non-null   int64  \n",
      " 14  Complain                     5630 non-null   int64  \n",
      " 15  OrderAmountHikeFromlastYear  5365 non-null   float64\n",
      " 16  CouponUsed                   5374 non-null   float64\n",
      " 17  OrderCount                   5372 non-null   float64\n",
      " 18  DaySinceLastOrder            5323 non-null   float64\n",
      " 19  CashbackAmount               5630 non-null   float64\n",
      "dtypes: float64(8), int64(7), object(5)\n",
      "memory usage: 879.8+ KB\n"
     ]
    }
   ],
   "source": [
    "df.info()"
   ]
  },
  {
   "cell_type": "code",
   "execution_count": 5,
   "id": "a667d87b",
   "metadata": {},
   "outputs": [
    {
     "data": {
      "text/plain": [
       "array(['Mobile Phone', 'Phone', 'Computer'], dtype=object)"
      ]
     },
     "execution_count": 5,
     "metadata": {},
     "output_type": "execute_result"
    }
   ],
   "source": [
    "df.PreferredLoginDevice.unique()"
   ]
  },
  {
   "cell_type": "code",
   "execution_count": 6,
   "id": "d1864ad0",
   "metadata": {},
   "outputs": [
    {
     "data": {
      "text/plain": [
       "array(['Debit Card', 'UPI', 'CC', 'Cash on Delivery', 'E wallet', 'COD',\n",
       "       'Credit Card'], dtype=object)"
      ]
     },
     "execution_count": 6,
     "metadata": {},
     "output_type": "execute_result"
    }
   ],
   "source": [
    "df.PreferredPaymentMode.unique()"
   ]
  },
  {
   "cell_type": "code",
   "execution_count": 7,
   "id": "e915dcd7",
   "metadata": {},
   "outputs": [
    {
     "data": {
      "text/plain": [
       "array(['Female', 'Male'], dtype=object)"
      ]
     },
     "execution_count": 7,
     "metadata": {},
     "output_type": "execute_result"
    }
   ],
   "source": [
    "df.Gender.unique()"
   ]
  },
  {
   "cell_type": "code",
   "execution_count": 8,
   "id": "59e0cacc",
   "metadata": {},
   "outputs": [
    {
     "data": {
      "text/plain": [
       "array(['Laptop & Accessory', 'Mobile', 'Mobile Phone', 'Others',\n",
       "       'Fashion', 'Grocery'], dtype=object)"
      ]
     },
     "execution_count": 8,
     "metadata": {},
     "output_type": "execute_result"
    }
   ],
   "source": [
    "df.PreferedOrderCat.unique()"
   ]
  },
  {
   "cell_type": "code",
   "execution_count": 9,
   "id": "72f1b42a",
   "metadata": {
    "tags": []
   },
   "outputs": [
    {
     "data": {
      "text/plain": [
       "array(['Single', 'Divorced', 'Married'], dtype=object)"
      ]
     },
     "execution_count": 9,
     "metadata": {},
     "output_type": "execute_result"
    }
   ],
   "source": [
    "df.MaritalStatus.unique()"
   ]
  },
  {
   "cell_type": "code",
   "execution_count": 10,
   "id": "c15ad463",
   "metadata": {},
   "outputs": [
    {
     "data": {
      "text/plain": [
       "0"
      ]
     },
     "execution_count": 10,
     "metadata": {},
     "output_type": "execute_result"
    }
   ],
   "source": [
    "df.duplicated().sum()"
   ]
  },
  {
   "cell_type": "markdown",
   "id": "5004f9d3",
   "metadata": {},
   "source": [
    "**Analisa**\n",
    "* Jumlah data ada 5630 baris dan 20 kolom\n",
    "* Tidak ada duplikat pada dataset\n",
    "* Pada bagian PreferredPaymentethod terdapat kesamaan yaitu variabel 'Cash on Delivery' dengan 'COD' selain itu 'Credit Card' dengan 'CC'"
   ]
  },
  {
   "cell_type": "markdown",
   "id": "af17c4c0-6dd5-487c-9a36-70c34ccd9de1",
   "metadata": {},
   "source": [
    "* A. Apakah ada kolom dengan tipe data kurang sesuai, atau nama kolom dan isinya kurang sesuai?"
   ]
  },
  {
   "cell_type": "markdown",
   "id": "c9236983",
   "metadata": {},
   "source": [
    "Pada bagian PreferredPaymentethod terdapat kesamaan yaitu variabel 'Cash on Delivery' dengan 'COD' selain itu 'Credit Card' dengan 'CC'"
   ]
  },
  {
   "cell_type": "markdown",
   "id": "bacaacdd",
   "metadata": {},
   "source": [
    "* B. Apakah ada kolom yang memiliki nilai kosong? Jika ada, apa saja?"
   ]
  },
  {
   "cell_type": "code",
   "execution_count": 11,
   "id": "5f1f0f71",
   "metadata": {},
   "outputs": [
    {
     "name": "stdout",
     "output_type": "stream",
     "text": [
      "Tenure\n",
      "the total null values are: 264\n",
      "the datatype is float64\n",
      "\n",
      "WarehouseToHome\n",
      "the total null values are: 251\n",
      "the datatype is float64\n",
      "\n",
      "HourSpendOnApp\n",
      "the total null values are: 255\n",
      "the datatype is float64\n",
      "\n",
      "OrderAmountHikeFromlastYear\n",
      "the total null values are: 265\n",
      "the datatype is float64\n",
      "\n",
      "CouponUsed\n",
      "the total null values are: 256\n",
      "the datatype is float64\n",
      "\n",
      "OrderCount\n",
      "the total null values are: 258\n",
      "the datatype is float64\n",
      "\n",
      "DaySinceLastOrder\n",
      "the total null values are: 307\n",
      "the datatype is float64\n",
      "\n"
     ]
    }
   ],
   "source": [
    "for i in df.columns:\n",
    "    if df[i].isnull().sum() > 0:\n",
    "        print(i)\n",
    "        print('the total null values are:', df[i].isnull().sum())\n",
    "        print('the datatype is', df[i].dtypes)\n",
    "        print()"
   ]
  },
  {
   "cell_type": "markdown",
   "id": "ad786aed",
   "metadata": {},
   "source": [
    "* C. Apakah ada kolom yang memiliki nilai summary agak aneh? (min/mean/median/max/unique/top/freq) \n"
   ]
  },
  {
   "cell_type": "code",
   "execution_count": 12,
   "id": "96d80e4f",
   "metadata": {},
   "outputs": [
    {
     "data": {
      "text/html": [
       "<div>\n",
       "<style scoped>\n",
       "    .dataframe tbody tr th:only-of-type {\n",
       "        vertical-align: middle;\n",
       "    }\n",
       "\n",
       "    .dataframe tbody tr th {\n",
       "        vertical-align: top;\n",
       "    }\n",
       "\n",
       "    .dataframe thead th {\n",
       "        text-align: right;\n",
       "    }\n",
       "</style>\n",
       "<table border=\"1\" class=\"dataframe\">\n",
       "  <thead>\n",
       "    <tr style=\"text-align: right;\">\n",
       "      <th></th>\n",
       "      <th>count</th>\n",
       "      <th>mean</th>\n",
       "      <th>std</th>\n",
       "      <th>min</th>\n",
       "      <th>25%</th>\n",
       "      <th>50%</th>\n",
       "      <th>75%</th>\n",
       "      <th>max</th>\n",
       "    </tr>\n",
       "  </thead>\n",
       "  <tbody>\n",
       "    <tr>\n",
       "      <th>CustomerID</th>\n",
       "      <td>5630.0</td>\n",
       "      <td>52815.500000</td>\n",
       "      <td>1625.385339</td>\n",
       "      <td>50001.0</td>\n",
       "      <td>51408.25</td>\n",
       "      <td>52815.50</td>\n",
       "      <td>54222.7500</td>\n",
       "      <td>55630.00</td>\n",
       "    </tr>\n",
       "    <tr>\n",
       "      <th>Churn</th>\n",
       "      <td>5630.0</td>\n",
       "      <td>0.168384</td>\n",
       "      <td>0.374240</td>\n",
       "      <td>0.0</td>\n",
       "      <td>0.00</td>\n",
       "      <td>0.00</td>\n",
       "      <td>0.0000</td>\n",
       "      <td>1.00</td>\n",
       "    </tr>\n",
       "    <tr>\n",
       "      <th>Tenure</th>\n",
       "      <td>5366.0</td>\n",
       "      <td>10.189899</td>\n",
       "      <td>8.557241</td>\n",
       "      <td>0.0</td>\n",
       "      <td>2.00</td>\n",
       "      <td>9.00</td>\n",
       "      <td>16.0000</td>\n",
       "      <td>61.00</td>\n",
       "    </tr>\n",
       "    <tr>\n",
       "      <th>CityTier</th>\n",
       "      <td>5630.0</td>\n",
       "      <td>1.654707</td>\n",
       "      <td>0.915389</td>\n",
       "      <td>1.0</td>\n",
       "      <td>1.00</td>\n",
       "      <td>1.00</td>\n",
       "      <td>3.0000</td>\n",
       "      <td>3.00</td>\n",
       "    </tr>\n",
       "    <tr>\n",
       "      <th>WarehouseToHome</th>\n",
       "      <td>5379.0</td>\n",
       "      <td>15.639896</td>\n",
       "      <td>8.531475</td>\n",
       "      <td>5.0</td>\n",
       "      <td>9.00</td>\n",
       "      <td>14.00</td>\n",
       "      <td>20.0000</td>\n",
       "      <td>127.00</td>\n",
       "    </tr>\n",
       "    <tr>\n",
       "      <th>HourSpendOnApp</th>\n",
       "      <td>5375.0</td>\n",
       "      <td>2.931535</td>\n",
       "      <td>0.721926</td>\n",
       "      <td>0.0</td>\n",
       "      <td>2.00</td>\n",
       "      <td>3.00</td>\n",
       "      <td>3.0000</td>\n",
       "      <td>5.00</td>\n",
       "    </tr>\n",
       "    <tr>\n",
       "      <th>NumberOfDeviceRegistered</th>\n",
       "      <td>5630.0</td>\n",
       "      <td>3.688988</td>\n",
       "      <td>1.023999</td>\n",
       "      <td>1.0</td>\n",
       "      <td>3.00</td>\n",
       "      <td>4.00</td>\n",
       "      <td>4.0000</td>\n",
       "      <td>6.00</td>\n",
       "    </tr>\n",
       "    <tr>\n",
       "      <th>SatisfactionScore</th>\n",
       "      <td>5630.0</td>\n",
       "      <td>3.066785</td>\n",
       "      <td>1.380194</td>\n",
       "      <td>1.0</td>\n",
       "      <td>2.00</td>\n",
       "      <td>3.00</td>\n",
       "      <td>4.0000</td>\n",
       "      <td>5.00</td>\n",
       "    </tr>\n",
       "    <tr>\n",
       "      <th>NumberOfAddress</th>\n",
       "      <td>5630.0</td>\n",
       "      <td>4.214032</td>\n",
       "      <td>2.583586</td>\n",
       "      <td>1.0</td>\n",
       "      <td>2.00</td>\n",
       "      <td>3.00</td>\n",
       "      <td>6.0000</td>\n",
       "      <td>22.00</td>\n",
       "    </tr>\n",
       "    <tr>\n",
       "      <th>Complain</th>\n",
       "      <td>5630.0</td>\n",
       "      <td>0.284902</td>\n",
       "      <td>0.451408</td>\n",
       "      <td>0.0</td>\n",
       "      <td>0.00</td>\n",
       "      <td>0.00</td>\n",
       "      <td>1.0000</td>\n",
       "      <td>1.00</td>\n",
       "    </tr>\n",
       "    <tr>\n",
       "      <th>OrderAmountHikeFromlastYear</th>\n",
       "      <td>5365.0</td>\n",
       "      <td>15.707922</td>\n",
       "      <td>3.675485</td>\n",
       "      <td>11.0</td>\n",
       "      <td>13.00</td>\n",
       "      <td>15.00</td>\n",
       "      <td>18.0000</td>\n",
       "      <td>26.00</td>\n",
       "    </tr>\n",
       "    <tr>\n",
       "      <th>CouponUsed</th>\n",
       "      <td>5374.0</td>\n",
       "      <td>1.751023</td>\n",
       "      <td>1.894621</td>\n",
       "      <td>0.0</td>\n",
       "      <td>1.00</td>\n",
       "      <td>1.00</td>\n",
       "      <td>2.0000</td>\n",
       "      <td>16.00</td>\n",
       "    </tr>\n",
       "    <tr>\n",
       "      <th>OrderCount</th>\n",
       "      <td>5372.0</td>\n",
       "      <td>3.008004</td>\n",
       "      <td>2.939680</td>\n",
       "      <td>1.0</td>\n",
       "      <td>1.00</td>\n",
       "      <td>2.00</td>\n",
       "      <td>3.0000</td>\n",
       "      <td>16.00</td>\n",
       "    </tr>\n",
       "    <tr>\n",
       "      <th>DaySinceLastOrder</th>\n",
       "      <td>5323.0</td>\n",
       "      <td>4.543491</td>\n",
       "      <td>3.654433</td>\n",
       "      <td>0.0</td>\n",
       "      <td>2.00</td>\n",
       "      <td>3.00</td>\n",
       "      <td>7.0000</td>\n",
       "      <td>46.00</td>\n",
       "    </tr>\n",
       "    <tr>\n",
       "      <th>CashbackAmount</th>\n",
       "      <td>5630.0</td>\n",
       "      <td>177.223030</td>\n",
       "      <td>49.207036</td>\n",
       "      <td>0.0</td>\n",
       "      <td>145.77</td>\n",
       "      <td>163.28</td>\n",
       "      <td>196.3925</td>\n",
       "      <td>324.99</td>\n",
       "    </tr>\n",
       "  </tbody>\n",
       "</table>\n",
       "</div>"
      ],
      "text/plain": [
       "                              count          mean          std      min  \\\n",
       "CustomerID                   5630.0  52815.500000  1625.385339  50001.0   \n",
       "Churn                        5630.0      0.168384     0.374240      0.0   \n",
       "Tenure                       5366.0     10.189899     8.557241      0.0   \n",
       "CityTier                     5630.0      1.654707     0.915389      1.0   \n",
       "WarehouseToHome              5379.0     15.639896     8.531475      5.0   \n",
       "HourSpendOnApp               5375.0      2.931535     0.721926      0.0   \n",
       "NumberOfDeviceRegistered     5630.0      3.688988     1.023999      1.0   \n",
       "SatisfactionScore            5630.0      3.066785     1.380194      1.0   \n",
       "NumberOfAddress              5630.0      4.214032     2.583586      1.0   \n",
       "Complain                     5630.0      0.284902     0.451408      0.0   \n",
       "OrderAmountHikeFromlastYear  5365.0     15.707922     3.675485     11.0   \n",
       "CouponUsed                   5374.0      1.751023     1.894621      0.0   \n",
       "OrderCount                   5372.0      3.008004     2.939680      1.0   \n",
       "DaySinceLastOrder            5323.0      4.543491     3.654433      0.0   \n",
       "CashbackAmount               5630.0    177.223030    49.207036      0.0   \n",
       "\n",
       "                                  25%       50%         75%       max  \n",
       "CustomerID                   51408.25  52815.50  54222.7500  55630.00  \n",
       "Churn                            0.00      0.00      0.0000      1.00  \n",
       "Tenure                           2.00      9.00     16.0000     61.00  \n",
       "CityTier                         1.00      1.00      3.0000      3.00  \n",
       "WarehouseToHome                  9.00     14.00     20.0000    127.00  \n",
       "HourSpendOnApp                   2.00      3.00      3.0000      5.00  \n",
       "NumberOfDeviceRegistered         3.00      4.00      4.0000      6.00  \n",
       "SatisfactionScore                2.00      3.00      4.0000      5.00  \n",
       "NumberOfAddress                  2.00      3.00      6.0000     22.00  \n",
       "Complain                         0.00      0.00      1.0000      1.00  \n",
       "OrderAmountHikeFromlastYear     13.00     15.00     18.0000     26.00  \n",
       "CouponUsed                       1.00      1.00      2.0000     16.00  \n",
       "OrderCount                       1.00      2.00      3.0000     16.00  \n",
       "DaySinceLastOrder                2.00      3.00      7.0000     46.00  \n",
       "CashbackAmount                 145.77    163.28    196.3925    324.99  "
      ]
     },
     "execution_count": 12,
     "metadata": {},
     "output_type": "execute_result"
    }
   ],
   "source": [
    "df.describe().transpose()"
   ]
  },
  {
   "cell_type": "markdown",
   "id": "1ee24662",
   "metadata": {},
   "source": [
    "Tidak ada keanehan"
   ]
  },
  {
   "cell_type": "code",
   "execution_count": 13,
   "id": "35caa4b5-8749-418d-b18e-f65fddec94a6",
   "metadata": {
    "tags": []
   },
   "outputs": [],
   "source": [
    "cats =['PreferredLoginDevice', \n",
    "                 'PreferredPaymentMode',\n",
    "                 'Gender',\n",
    "                 'PreferedOrderCat',\n",
    "                 'MaritalStatus']\n",
    "\n",
    "nums = ['CustomerID', \n",
    "              'Tenure', \n",
    "              'CityTier', \n",
    "              'WarehouseToHome', \n",
    "              'HourSpendOnApp', \n",
    "              'NumberOfDeviceRegistered', \n",
    "              'SatisfactionScore', \n",
    "              'NumberOfAddress', \n",
    "              'Complain', \n",
    "              'OrderAmountHikeFromlastYear',\n",
    "              'CouponUsed', \n",
    "              'OrderCount', \n",
    "              'DaySinceLastOrder', \n",
    "              'CashbackAmount', \n",
    "              'Churn']"
   ]
  },
  {
   "cell_type": "code",
   "execution_count": 14,
   "id": "fc8d4bb1",
   "metadata": {},
   "outputs": [
    {
     "name": "stdout",
     "output_type": "stream",
     "text": [
      "Value count kolom PreferredLoginDevice:\n",
      "Mobile Phone    2765\n",
      "Computer        1634\n",
      "Phone           1231\n",
      "Name: PreferredLoginDevice, dtype: int64\n",
      "\n",
      "\n",
      "Value count kolom PreferredPaymentMode:\n",
      "Debit Card          2314\n",
      "Credit Card         1501\n",
      "E wallet             614\n",
      "UPI                  414\n",
      "COD                  365\n",
      "CC                   273\n",
      "Cash on Delivery     149\n",
      "Name: PreferredPaymentMode, dtype: int64\n",
      "\n",
      "\n",
      "Value count kolom Gender:\n",
      "Male      3384\n",
      "Female    2246\n",
      "Name: Gender, dtype: int64\n",
      "\n",
      "\n",
      "Value count kolom PreferedOrderCat:\n",
      "Laptop & Accessory    2050\n",
      "Mobile Phone          1271\n",
      "Fashion                826\n",
      "Mobile                 809\n",
      "Grocery                410\n",
      "Others                 264\n",
      "Name: PreferedOrderCat, dtype: int64\n",
      "\n",
      "\n",
      "Value count kolom MaritalStatus:\n",
      "Married     2986\n",
      "Single      1796\n",
      "Divorced     848\n",
      "Name: MaritalStatus, dtype: int64\n",
      "\n",
      "\n"
     ]
    }
   ],
   "source": [
    "for col in cats:\n",
    "    print(f'''Value count kolom {col}:''')\n",
    "    print(df[col].value_counts())\n",
    "    print('\\n')"
   ]
  },
  {
   "cell_type": "code",
   "execution_count": 15,
   "id": "64819282",
   "metadata": {},
   "outputs": [
    {
     "data": {
      "text/plain": [
       "CustomerID                       0\n",
       "Churn                            0\n",
       "Tenure                         264\n",
       "PreferredLoginDevice             0\n",
       "CityTier                         0\n",
       "WarehouseToHome                251\n",
       "PreferredPaymentMode             0\n",
       "Gender                           0\n",
       "HourSpendOnApp                 255\n",
       "NumberOfDeviceRegistered         0\n",
       "PreferedOrderCat                 0\n",
       "SatisfactionScore                0\n",
       "MaritalStatus                    0\n",
       "NumberOfAddress                  0\n",
       "Complain                         0\n",
       "OrderAmountHikeFromlastYear    265\n",
       "CouponUsed                     256\n",
       "OrderCount                     258\n",
       "DaySinceLastOrder              307\n",
       "CashbackAmount                   0\n",
       "dtype: int64"
      ]
     },
     "execution_count": 15,
     "metadata": {},
     "output_type": "execute_result"
    }
   ],
   "source": [
    "df.isna().sum()"
   ]
  },
  {
   "cell_type": "markdown",
   "id": "aaf8ca82",
   "metadata": {},
   "source": [
    "# Hasil Analisa\n",
    "* Kolom Tenure Kosong 264 Data\n",
    "* Kolom Warehouse To Home Kosong 251 Data\n",
    "* Kolom HourSpendOnApp Kosong 255 Data\n",
    "* Kolom OrderAmountHikeFromlastYear 265 Data\n",
    "* Kolom CouponUsed 256 Data\n",
    "* Kolom OrderCount 258 Data\n",
    "* Kolom DaySinceLastOrder 307 Data"
   ]
  },
  {
   "cell_type": "markdown",
   "id": "67834a66",
   "metadata": {},
   "source": [
    "# 2. Univariate Analysis"
   ]
  },
  {
   "cell_type": "markdown",
   "id": "103c69a0-b6f8-442b-b746-f548d2c8d08b",
   "metadata": {},
   "source": [
    "Gunakan visualisasi untuk melihat distribusi masing-masing kolom (feature maupun\n",
    "target). Tuliskan hasil observasinya, misalnya jika ada suatu kolom yang distribusinya\n",
    "menarik (misal skewed, bimodal, ada outlier, ada nilai yang mendominasi, kategorinya\n",
    "terlalu banyak, dsb). Jelaskan juga apa yang harus di-follow up saat data pre-processing."
   ]
  },
  {
   "cell_type": "markdown",
   "id": "d1efcb2d",
   "metadata": {},
   "source": [
    "### Box Plot"
   ]
  },
  {
   "cell_type": "code",
   "execution_count": 16,
   "id": "b4e6b3fd",
   "metadata": {},
   "outputs": [
    {
     "data": {
      "image/png": "[encoded data removed]",
      "text/plain": [
       "<Figure size 864x1440 with 15 Axes>"
      ]
     },
     "metadata": {
      "needs_background": "light"
     },
     "output_type": "display_data"
    }
   ],
   "source": [
    "plt.figure(figsize=(12, 20))\n",
    "for i in range(0, len(nums)):\n",
    "    plt.subplot(4, len(nums)/3, i+1)\n",
    "    sns.boxplot(y=df[nums[i]], color='green', orient='v')\n",
    "    plt.tight_layout()"
   ]
  },
  {
   "cell_type": "markdown",
   "id": "e4ab6c04",
   "metadata": {},
   "source": [
    "**Hasil Observasi Boxplot:**\n",
    "> Semua data numerik memiliki outlier\n"
   ]
  },
  {
   "cell_type": "markdown",
   "id": "ec3d4173",
   "metadata": {},
   "source": [
    "### Distribution Graph"
   ]
  },
  {
   "cell_type": "code",
   "execution_count": 17,
   "id": "3fe499fe",
   "metadata": {},
   "outputs": [
    {
     "data": {
      "image/png": "[encoded data removed]",
      "text/plain": [
       "<Figure size 1080x360 with 15 Axes>"
      ]
     },
     "metadata": {
      "needs_background": "light"
     },
     "output_type": "display_data"
    }
   ],
   "source": [
    "plt.figure(figsize=(15, 5))\n",
    "for i in range(0, len(nums)):\n",
    "    plt.subplot(3, 5, i+1)\n",
    "    sns.kdeplot(x=df[nums[i]], color='green')\n",
    "    plt.xlabel(nums[i])\n",
    "    plt.tight_layout()"
   ]
  },
  {
   "cell_type": "markdown",
   "id": "a0f526d7",
   "metadata": {},
   "source": [
    "**Hasil Observasi:**"
   ]
  },
  {
   "cell_type": "markdown",
   "id": "cf6f9d97",
   "metadata": {},
   "source": [
    "| Fitur                     | Jenis Distribusi             | Deskripsi                                                      | Tindak Lanjut                                                   |\n",
    "|---------------------------|------------------------------|-----------------------------------------------------------------|-------------------------------------------------------------------|\n",
    "| CustomerID                | Uniform                      | Setiap ID bersifat unik dan muncul kira-kira satu kali.          | Pertimbangkan untuk menurunkan fitur ini karena mungkin tidak berguna untuk model prediksi.                                |\n",
    "| Tenure                    | Bimodal                      | Ada dua kelompok pelanggan berdasarkan masa kerja mereka.         | Selidiki alasan bimodality dan pertimbangkan segmentasi pelanggan berdasarkan masa kerja untuk strategi yang lebih tertarget.     |\n",
    "| CityTier                  | Multimodal (tiga puncak)      | Mayoritas pelanggan berada pada tingkat 1 dan 2, dengan lebih sedikit pelanggan pada tingkat 3. | Pertimbangkan one-hot encoding untuk representasi yang akurat saat pemodelan.                                             |\n",
    "| WarehouseToHome           | Right-skewed                 | Sebagian besar pelanggan tinggal lebih dekat dengan gudang.       | Terapkan transformasi seperti log atau akar kuadrat untuk mengurangi kemiringan.                                              |\n",
    "| HourSpendOnApp            | Bimodal                      | Menunjukkan dua kelompok utama perilaku pengguna terkait durasi penggunaan aplikasi. | Selidiki alasan bimodality dan pertimbangkan segmentasi pengguna berdasarkan waktu penggunaan aplikasi.                    |\n",
    "| NumberOfDeviceRegistered  | Right-skewed                 | Mayoritas pelanggan mendaftarkan 2-3 perangkat.                    | Terapkan transformasi seperti log atau akar kuadrat untuk mengurangi kemiringan.                                              |\n",
    "| SatisfactionScore         | Multimodal (tiga puncak)      | Beragam tingkat kepuasan pelanggan.                               | Mensegmentasikan pelanggan berdasarkan skor ini dapat memberikan wawasan yang berguna.                                        |\n",
    "| NumberOfAddress           | Right-skewed                 | Mayoritas pelanggan mendaftarkan 1-2 alamat.                       | Terapkan transformasi seperti log atau akar kuadrat untuk mengurangi kemiringan.                                              |\n",
    "| Complain                  | Mayoritas nilai 0            | Mayoritas pelanggan belum mengajukan keluhan.                      | Periksa ketidakseimbangan kelas jika digunakan sebagai fitur. Mungkin diperlukan oversampling atau undersampling.            |\n",
    "| OrderAmountHikeFromlastYear | Bimodal                     | Dua kelompok berbeda di sekitar nilai 10 dan 20.                   | Telusuri alasan bimodality dan pertimbangkan segmentasi berdasarkan kenaikan jumlah pesanan.                                 |\n",
    "| CouponUsed                | Right-skewed                 | Mayoritas pelanggan menggunakan sejumlah kecil kupon.               | Pertimbangkan normalisasi menggunakan transformasi log atau akar kuadrat untuk mengatasi kemiringan.                        |\n",
    "| OrderCount                | Right-skewed                 | Mayoritas pelanggan memiliki jumlah pesanan yang lebih rendah.      | Pertimbangkan normalisasi menggunakan transformasi untuk mengatasi kemiringan.                                              |\n",
    "| DaySinceLastOrder         | Puncak di sekitar 20 hari    | Mayoritas pelanggan memiliki jeda sekitar 20 hari sejak pesanan terakhir mereka. | Telusuri alasan puncak ini untuk mendapatkan wawasan tentang perilaku pelanggan.                                        |\n",
    "| CashbackAmount            | Right-skewed                 | Mayoritas pelanggan menerima jumlah cashback yang lebih kecil.     | Pertimbangkan normalisasi menggunakan transformasi untuk mengatasi kemiringan.                                              |\n",
    "| Churn                     | Distribusi Biner             | Lebih sedikit pelanggan yang churn dibandingkan yang tidak.        | Pastikan tidak ada ketidakseimbangan kelas. Gunakan oversampling, undersampling, atau metrik evaluasi yang sesuai.             |\n"
   ]
  },
  {
   "cell_type": "markdown",
   "id": "81a1ccf5",
   "metadata": {},
   "source": [
    "### Histogram categorical data"
   ]
  },
  {
   "cell_type": "code",
   "execution_count": 18,
   "id": "b0cdd764",
   "metadata": {},
   "outputs": [
    {
     "data": {
      "image/png": "[encoded data removed]",
      "text/plain": [
       "<Figure size 1440x360 with 5 Axes>"
      ]
     },
     "metadata": {
      "needs_background": "light"
     },
     "output_type": "display_data"
    }
   ],
   "source": [
    "plt.figure(figsize=(20,5))\n",
    "for i in range(0, len(cats)):\n",
    "    plt.subplot(1, len(cats), i+1)\n",
    "    sns.countplot(x=df[cats[i]], color ='green')\n",
    "    plt.tight_layout()"
   ]
  },
  {
   "cell_type": "markdown",
   "id": "1207d096",
   "metadata": {},
   "source": [
    "**Hasil Observasi:** \n",
    "> * PrefferedLoginDevice mayoritas adalah Mobile Phone\n",
    "> * PrefferedPaymentMode mayoritas adalah Debit Card\n",
    "> * Gender mayoritas adalah Male\n",
    "> * PrefferedOrderCat mayoritas adalah Laptop & Accessory\n",
    "> * MaritalStatus mayoritas adalah Married"
   ]
  },
  {
   "cell_type": "markdown",
   "id": "99319a95",
   "metadata": {},
   "source": [
    "# 3. Multivariate Analysis"
   ]
  },
  {
   "cell_type": "markdown",
   "id": "e44c764a",
   "metadata": {},
   "source": [
    "Lakukan multivariate analysis (seperti correlation heatmap dan category plots, sesuai yang\n",
    "diajarkan di kelas). Tuliskan hasil observasinya, seperti:\n",
    "* A. Bagaimana korelasi antara masing-masing feature dan label. Kira-kira feature mana saja yang paling relevan dan harus dipertahankan?\n",
    "* B. Bagaimana korelasi antar-feature, apakah ada pola yang menarik? Apa yang perlu dilakukan terhadap feature itu?\n",
    "* Tuliskan juga jika memang tidak ada feature yang saling berkorelasi"
   ]
  },
  {
   "cell_type": "code",
   "execution_count": 19,
   "id": "91bee8c5",
   "metadata": {},
   "outputs": [
    {
     "data": {
      "text/html": [
       "<div>\n",
       "<style scoped>\n",
       "    .dataframe tbody tr th:only-of-type {\n",
       "        vertical-align: middle;\n",
       "    }\n",
       "\n",
       "    .dataframe tbody tr th {\n",
       "        vertical-align: top;\n",
       "    }\n",
       "\n",
       "    .dataframe thead th {\n",
       "        text-align: right;\n",
       "    }\n",
       "</style>\n",
       "<table border=\"1\" class=\"dataframe\">\n",
       "  <thead>\n",
       "    <tr style=\"text-align: right;\">\n",
       "      <th></th>\n",
       "      <th>CustomerID</th>\n",
       "      <th>Tenure</th>\n",
       "      <th>CityTier</th>\n",
       "      <th>WarehouseToHome</th>\n",
       "      <th>HourSpendOnApp</th>\n",
       "      <th>NumberOfDeviceRegistered</th>\n",
       "      <th>SatisfactionScore</th>\n",
       "      <th>NumberOfAddress</th>\n",
       "      <th>Complain</th>\n",
       "      <th>OrderAmountHikeFromlastYear</th>\n",
       "      <th>CouponUsed</th>\n",
       "      <th>OrderCount</th>\n",
       "      <th>DaySinceLastOrder</th>\n",
       "      <th>CashbackAmount</th>\n",
       "      <th>Churn</th>\n",
       "    </tr>\n",
       "  </thead>\n",
       "  <tbody>\n",
       "    <tr>\n",
       "      <th>CustomerID</th>\n",
       "      <td>1.000000</td>\n",
       "      <td>0.029952</td>\n",
       "      <td>0.003239</td>\n",
       "      <td>0.058909</td>\n",
       "      <td>0.598417</td>\n",
       "      <td>0.411098</td>\n",
       "      <td>-0.033146</td>\n",
       "      <td>0.160814</td>\n",
       "      <td>-0.009944</td>\n",
       "      <td>0.117243</td>\n",
       "      <td>0.234302</td>\n",
       "      <td>0.139008</td>\n",
       "      <td>0.113243</td>\n",
       "      <td>0.217129</td>\n",
       "      <td>-0.019083</td>\n",
       "    </tr>\n",
       "    <tr>\n",
       "      <th>Tenure</th>\n",
       "      <td>0.029952</td>\n",
       "      <td>1.000000</td>\n",
       "      <td>-0.060688</td>\n",
       "      <td>-0.018218</td>\n",
       "      <td>-0.021226</td>\n",
       "      <td>-0.023983</td>\n",
       "      <td>-0.013903</td>\n",
       "      <td>0.237666</td>\n",
       "      <td>-0.021268</td>\n",
       "      <td>0.005825</td>\n",
       "      <td>0.129035</td>\n",
       "      <td>0.186403</td>\n",
       "      <td>0.184552</td>\n",
       "      <td>0.476380</td>\n",
       "      <td>-0.349408</td>\n",
       "    </tr>\n",
       "    <tr>\n",
       "      <th>CityTier</th>\n",
       "      <td>0.003239</td>\n",
       "      <td>-0.060688</td>\n",
       "      <td>1.000000</td>\n",
       "      <td>0.010624</td>\n",
       "      <td>-0.009150</td>\n",
       "      <td>0.027934</td>\n",
       "      <td>-0.011554</td>\n",
       "      <td>-0.029440</td>\n",
       "      <td>0.003375</td>\n",
       "      <td>-0.031408</td>\n",
       "      <td>0.021456</td>\n",
       "      <td>0.033388</td>\n",
       "      <td>0.017525</td>\n",
       "      <td>0.055746</td>\n",
       "      <td>0.084703</td>\n",
       "    </tr>\n",
       "    <tr>\n",
       "      <th>WarehouseToHome</th>\n",
       "      <td>0.058909</td>\n",
       "      <td>-0.018218</td>\n",
       "      <td>0.010624</td>\n",
       "      <td>1.000000</td>\n",
       "      <td>0.060990</td>\n",
       "      <td>0.019071</td>\n",
       "      <td>0.007722</td>\n",
       "      <td>-0.011020</td>\n",
       "      <td>0.028696</td>\n",
       "      <td>0.038795</td>\n",
       "      <td>-0.003935</td>\n",
       "      <td>0.002681</td>\n",
       "      <td>0.017829</td>\n",
       "      <td>-0.009200</td>\n",
       "      <td>0.076630</td>\n",
       "    </tr>\n",
       "    <tr>\n",
       "      <th>HourSpendOnApp</th>\n",
       "      <td>0.598417</td>\n",
       "      <td>-0.021226</td>\n",
       "      <td>-0.009150</td>\n",
       "      <td>0.060990</td>\n",
       "      <td>1.000000</td>\n",
       "      <td>0.316800</td>\n",
       "      <td>0.031858</td>\n",
       "      <td>0.145126</td>\n",
       "      <td>0.006976</td>\n",
       "      <td>0.106843</td>\n",
       "      <td>0.191528</td>\n",
       "      <td>0.109575</td>\n",
       "      <td>0.075716</td>\n",
       "      <td>0.121490</td>\n",
       "      <td>0.018675</td>\n",
       "    </tr>\n",
       "    <tr>\n",
       "      <th>NumberOfDeviceRegistered</th>\n",
       "      <td>0.411098</td>\n",
       "      <td>-0.023983</td>\n",
       "      <td>0.027934</td>\n",
       "      <td>0.019071</td>\n",
       "      <td>0.316800</td>\n",
       "      <td>1.000000</td>\n",
       "      <td>-0.017228</td>\n",
       "      <td>0.084997</td>\n",
       "      <td>0.003407</td>\n",
       "      <td>0.069475</td>\n",
       "      <td>0.151685</td>\n",
       "      <td>0.103464</td>\n",
       "      <td>0.018208</td>\n",
       "      <td>0.137183</td>\n",
       "      <td>0.107939</td>\n",
       "    </tr>\n",
       "    <tr>\n",
       "      <th>SatisfactionScore</th>\n",
       "      <td>-0.033146</td>\n",
       "      <td>-0.013903</td>\n",
       "      <td>-0.011554</td>\n",
       "      <td>0.007722</td>\n",
       "      <td>0.031858</td>\n",
       "      <td>-0.017228</td>\n",
       "      <td>1.000000</td>\n",
       "      <td>0.053583</td>\n",
       "      <td>-0.031115</td>\n",
       "      <td>-0.027730</td>\n",
       "      <td>0.017936</td>\n",
       "      <td>0.019764</td>\n",
       "      <td>0.032082</td>\n",
       "      <td>0.003473</td>\n",
       "      <td>0.105481</td>\n",
       "    </tr>\n",
       "    <tr>\n",
       "      <th>NumberOfAddress</th>\n",
       "      <td>0.160814</td>\n",
       "      <td>0.237666</td>\n",
       "      <td>-0.029440</td>\n",
       "      <td>-0.011020</td>\n",
       "      <td>0.145126</td>\n",
       "      <td>0.084997</td>\n",
       "      <td>0.053583</td>\n",
       "      <td>1.000000</td>\n",
       "      <td>-0.026399</td>\n",
       "      <td>0.015533</td>\n",
       "      <td>0.042120</td>\n",
       "      <td>-0.007609</td>\n",
       "      <td>-0.064847</td>\n",
       "      <td>0.186688</td>\n",
       "      <td>0.043931</td>\n",
       "    </tr>\n",
       "    <tr>\n",
       "      <th>Complain</th>\n",
       "      <td>-0.009944</td>\n",
       "      <td>-0.021268</td>\n",
       "      <td>0.003375</td>\n",
       "      <td>0.028696</td>\n",
       "      <td>0.006976</td>\n",
       "      <td>0.003407</td>\n",
       "      <td>-0.031115</td>\n",
       "      <td>-0.026399</td>\n",
       "      <td>1.000000</td>\n",
       "      <td>-0.004529</td>\n",
       "      <td>-0.008174</td>\n",
       "      <td>-0.019307</td>\n",
       "      <td>-0.043546</td>\n",
       "      <td>0.000525</td>\n",
       "      <td>0.250188</td>\n",
       "    </tr>\n",
       "    <tr>\n",
       "      <th>OrderAmountHikeFromlastYear</th>\n",
       "      <td>0.117243</td>\n",
       "      <td>0.005825</td>\n",
       "      <td>-0.031408</td>\n",
       "      <td>0.038795</td>\n",
       "      <td>0.106843</td>\n",
       "      <td>0.069475</td>\n",
       "      <td>-0.027730</td>\n",
       "      <td>0.015533</td>\n",
       "      <td>-0.004529</td>\n",
       "      <td>1.000000</td>\n",
       "      <td>0.033201</td>\n",
       "      <td>0.023101</td>\n",
       "      <td>0.006003</td>\n",
       "      <td>0.017869</td>\n",
       "      <td>-0.010058</td>\n",
       "    </tr>\n",
       "    <tr>\n",
       "      <th>CouponUsed</th>\n",
       "      <td>0.234302</td>\n",
       "      <td>0.129035</td>\n",
       "      <td>0.021456</td>\n",
       "      <td>-0.003935</td>\n",
       "      <td>0.191528</td>\n",
       "      <td>0.151685</td>\n",
       "      <td>0.017936</td>\n",
       "      <td>0.042120</td>\n",
       "      <td>-0.008174</td>\n",
       "      <td>0.033201</td>\n",
       "      <td>1.000000</td>\n",
       "      <td>0.745245</td>\n",
       "      <td>0.358930</td>\n",
       "      <td>0.286728</td>\n",
       "      <td>-0.008264</td>\n",
       "    </tr>\n",
       "    <tr>\n",
       "      <th>OrderCount</th>\n",
       "      <td>0.139008</td>\n",
       "      <td>0.186403</td>\n",
       "      <td>0.033388</td>\n",
       "      <td>0.002681</td>\n",
       "      <td>0.109575</td>\n",
       "      <td>0.103464</td>\n",
       "      <td>0.019764</td>\n",
       "      <td>-0.007609</td>\n",
       "      <td>-0.019307</td>\n",
       "      <td>0.023101</td>\n",
       "      <td>0.745245</td>\n",
       "      <td>1.000000</td>\n",
       "      <td>0.497928</td>\n",
       "      <td>0.360984</td>\n",
       "      <td>-0.028697</td>\n",
       "    </tr>\n",
       "    <tr>\n",
       "      <th>DaySinceLastOrder</th>\n",
       "      <td>0.113243</td>\n",
       "      <td>0.184552</td>\n",
       "      <td>0.017525</td>\n",
       "      <td>0.017829</td>\n",
       "      <td>0.075716</td>\n",
       "      <td>0.018208</td>\n",
       "      <td>0.032082</td>\n",
       "      <td>-0.064847</td>\n",
       "      <td>-0.043546</td>\n",
       "      <td>0.006003</td>\n",
       "      <td>0.358930</td>\n",
       "      <td>0.497928</td>\n",
       "      <td>1.000000</td>\n",
       "      <td>0.347172</td>\n",
       "      <td>-0.160757</td>\n",
       "    </tr>\n",
       "    <tr>\n",
       "      <th>CashbackAmount</th>\n",
       "      <td>0.217129</td>\n",
       "      <td>0.476380</td>\n",
       "      <td>0.055746</td>\n",
       "      <td>-0.009200</td>\n",
       "      <td>0.121490</td>\n",
       "      <td>0.137183</td>\n",
       "      <td>0.003473</td>\n",
       "      <td>0.186688</td>\n",
       "      <td>0.000525</td>\n",
       "      <td>0.017869</td>\n",
       "      <td>0.286728</td>\n",
       "      <td>0.360984</td>\n",
       "      <td>0.347172</td>\n",
       "      <td>1.000000</td>\n",
       "      <td>-0.154118</td>\n",
       "    </tr>\n",
       "    <tr>\n",
       "      <th>Churn</th>\n",
       "      <td>-0.019083</td>\n",
       "      <td>-0.349408</td>\n",
       "      <td>0.084703</td>\n",
       "      <td>0.076630</td>\n",
       "      <td>0.018675</td>\n",
       "      <td>0.107939</td>\n",
       "      <td>0.105481</td>\n",
       "      <td>0.043931</td>\n",
       "      <td>0.250188</td>\n",
       "      <td>-0.010058</td>\n",
       "      <td>-0.008264</td>\n",
       "      <td>-0.028697</td>\n",
       "      <td>-0.160757</td>\n",
       "      <td>-0.154118</td>\n",
       "      <td>1.000000</td>\n",
       "    </tr>\n",
       "  </tbody>\n",
       "</table>\n",
       "</div>"
      ],
      "text/plain": [
       "                             CustomerID    Tenure  CityTier  WarehouseToHome  \\\n",
       "CustomerID                     1.000000  0.029952  0.003239         0.058909   \n",
       "Tenure                         0.029952  1.000000 -0.060688        -0.018218   \n",
       "CityTier                       0.003239 -0.060688  1.000000         0.010624   \n",
       "WarehouseToHome                0.058909 -0.018218  0.010624         1.000000   \n",
       "HourSpendOnApp                 0.598417 -0.021226 -0.009150         0.060990   \n",
       "NumberOfDeviceRegistered       0.411098 -0.023983  0.027934         0.019071   \n",
       "SatisfactionScore             -0.033146 -0.013903 -0.011554         0.007722   \n",
       "NumberOfAddress                0.160814  0.237666 -0.029440        -0.011020   \n",
       "Complain                      -0.009944 -0.021268  0.003375         0.028696   \n",
       "OrderAmountHikeFromlastYear    0.117243  0.005825 -0.031408         0.038795   \n",
       "CouponUsed                     0.234302  0.129035  0.021456        -0.003935   \n",
       "OrderCount                     0.139008  0.186403  0.033388         0.002681   \n",
       "DaySinceLastOrder              0.113243  0.184552  0.017525         0.017829   \n",
       "CashbackAmount                 0.217129  0.476380  0.055746        -0.009200   \n",
       "Churn                         -0.019083 -0.349408  0.084703         0.076630   \n",
       "\n",
       "                             HourSpendOnApp  NumberOfDeviceRegistered  \\\n",
       "CustomerID                         0.598417                  0.411098   \n",
       "Tenure                            -0.021226                 -0.023983   \n",
       "CityTier                          -0.009150                  0.027934   \n",
       "WarehouseToHome                    0.060990                  0.019071   \n",
       "HourSpendOnApp                     1.000000                  0.316800   \n",
       "NumberOfDeviceRegistered           0.316800                  1.000000   \n",
       "SatisfactionScore                  0.031858                 -0.017228   \n",
       "NumberOfAddress                    0.145126                  0.084997   \n",
       "Complain                           0.006976                  0.003407   \n",
       "OrderAmountHikeFromlastYear        0.106843                  0.069475   \n",
       "CouponUsed                         0.191528                  0.151685   \n",
       "OrderCount                         0.109575                  0.103464   \n",
       "DaySinceLastOrder                  0.075716                  0.018208   \n",
       "CashbackAmount                     0.121490                  0.137183   \n",
       "Churn                              0.018675                  0.107939   \n",
       "\n",
       "                             SatisfactionScore  NumberOfAddress  Complain  \\\n",
       "CustomerID                           -0.033146         0.160814 -0.009944   \n",
       "Tenure                               -0.013903         0.237666 -0.021268   \n",
       "CityTier                             -0.011554        -0.029440  0.003375   \n",
       "WarehouseToHome                       0.007722        -0.011020  0.028696   \n",
       "HourSpendOnApp                        0.031858         0.145126  0.006976   \n",
       "NumberOfDeviceRegistered             -0.017228         0.084997  0.003407   \n",
       "SatisfactionScore                     1.000000         0.053583 -0.031115   \n",
       "NumberOfAddress                       0.053583         1.000000 -0.026399   \n",
       "Complain                             -0.031115        -0.026399  1.000000   \n",
       "OrderAmountHikeFromlastYear          -0.027730         0.015533 -0.004529   \n",
       "CouponUsed                            0.017936         0.042120 -0.008174   \n",
       "OrderCount                            0.019764        -0.007609 -0.019307   \n",
       "DaySinceLastOrder                     0.032082        -0.064847 -0.043546   \n",
       "CashbackAmount                        0.003473         0.186688  0.000525   \n",
       "Churn                                 0.105481         0.043931  0.250188   \n",
       "\n",
       "                             OrderAmountHikeFromlastYear  CouponUsed  \\\n",
       "CustomerID                                      0.117243    0.234302   \n",
       "Tenure                                          0.005825    0.129035   \n",
       "CityTier                                       -0.031408    0.021456   \n",
       "WarehouseToHome                                 0.038795   -0.003935   \n",
       "HourSpendOnApp                                  0.106843    0.191528   \n",
       "NumberOfDeviceRegistered                        0.069475    0.151685   \n",
       "SatisfactionScore                              -0.027730    0.017936   \n",
       "NumberOfAddress                                 0.015533    0.042120   \n",
       "Complain                                       -0.004529   -0.008174   \n",
       "OrderAmountHikeFromlastYear                     1.000000    0.033201   \n",
       "CouponUsed                                      0.033201    1.000000   \n",
       "OrderCount                                      0.023101    0.745245   \n",
       "DaySinceLastOrder                               0.006003    0.358930   \n",
       "CashbackAmount                                  0.017869    0.286728   \n",
       "Churn                                          -0.010058   -0.008264   \n",
       "\n",
       "                             OrderCount  DaySinceLastOrder  CashbackAmount  \\\n",
       "CustomerID                     0.139008           0.113243        0.217129   \n",
       "Tenure                         0.186403           0.184552        0.476380   \n",
       "CityTier                       0.033388           0.017525        0.055746   \n",
       "WarehouseToHome                0.002681           0.017829       -0.009200   \n",
       "HourSpendOnApp                 0.109575           0.075716        0.121490   \n",
       "NumberOfDeviceRegistered       0.103464           0.018208        0.137183   \n",
       "SatisfactionScore              0.019764           0.032082        0.003473   \n",
       "NumberOfAddress               -0.007609          -0.064847        0.186688   \n",
       "Complain                      -0.019307          -0.043546        0.000525   \n",
       "OrderAmountHikeFromlastYear    0.023101           0.006003        0.017869   \n",
       "CouponUsed                     0.745245           0.358930        0.286728   \n",
       "OrderCount                     1.000000           0.497928        0.360984   \n",
       "DaySinceLastOrder              0.497928           1.000000        0.347172   \n",
       "CashbackAmount                 0.360984           0.347172        1.000000   \n",
       "Churn                         -0.028697          -0.160757       -0.154118   \n",
       "\n",
       "                                Churn  \n",
       "CustomerID                  -0.019083  \n",
       "Tenure                      -0.349408  \n",
       "CityTier                     0.084703  \n",
       "WarehouseToHome              0.076630  \n",
       "HourSpendOnApp               0.018675  \n",
       "NumberOfDeviceRegistered     0.107939  \n",
       "SatisfactionScore            0.105481  \n",
       "NumberOfAddress              0.043931  \n",
       "Complain                     0.250188  \n",
       "OrderAmountHikeFromlastYear -0.010058  \n",
       "CouponUsed                  -0.008264  \n",
       "OrderCount                  -0.028697  \n",
       "DaySinceLastOrder           -0.160757  \n",
       "CashbackAmount              -0.154118  \n",
       "Churn                        1.000000  "
      ]
     },
     "execution_count": 19,
     "metadata": {},
     "output_type": "execute_result"
    }
   ],
   "source": [
    "df[nums].corr()"
   ]
  },
  {
   "cell_type": "code",
   "execution_count": 20,
   "id": "02471990-f4e7-429a-bdeb-26ab46c13b57",
   "metadata": {},
   "outputs": [
    {
     "data": {
      "image/png": "[encoded data removed]",
      "text/plain": [
       "<Figure size 216x504 with 2 Axes>"
      ]
     },
     "metadata": {
      "needs_background": "light"
     },
     "output_type": "display_data"
    }
   ],
   "source": [
    "plt.figure(figsize=(3, 7))\n",
    "heatmap = sns.heatmap(df[nums].corr()[['Churn']].sort_values(by='Churn', ascending=False), vmin=-1, vmax=1, annot=True, cmap='BrBG')\n",
    "heatmap.set_title('Features Correlating with Churn', fontdict={'fontsize':18}, pad=16);"
   ]
  },
  {
   "cell_type": "markdown",
   "id": "6dea5e90",
   "metadata": {},
   "source": [
    "Analisa : \n",
    "- 'Tenure' memiliki korelasi negative sedang sebesar -0.35 dengan churn, ini menunjukkan bahwa tenure memiliki korelasi berkebalikan dengan churn. \n",
    "- Feature - Feature lain memiliki nilai korelasi yang sangat rendah yakni mendekati nilai 0. hal ini menunjukkan bahwa beberapa Feature yang mendekati nilai 0 tersebut, tidak memiliki korelasi dengan churn. "
   ]
  },
  {
   "cell_type": "markdown",
   "id": "327590db",
   "metadata": {},
   "source": [
    "Action : \n",
    "- Terdapat beberapa Feature penting yang memiliki korelasi nilai sedang (menjauhi nilai 0), beberapa Feature ini dapat dipertahankan untuk dapat dijadikan Feature utama (feature penting) dalam proses training model machine learning. Feature - Feature tersebut seperti Complain, dan Tenure. \n",
    "- Feature - Feature yang memiliki korelasi low (mendekati nilai 0) harus dipertimbangkan untuk dibuang atau dipertahankan, karena beberapa Feature tersebut bisa jadi memiliki informasi penting yang unik yang berguna untuk bahan pembelajaran model machine learning yang digunakan.  "
   ]
  },
  {
   "cell_type": "code",
   "execution_count": 21,
   "id": "d7110369",
   "metadata": {},
   "outputs": [
    {
     "data": {
      "image/png": "[encoded data removed]",
      "text/plain": [
       "<Figure size 720x576 with 2 Axes>"
      ]
     },
     "metadata": {
      "needs_background": "light"
     },
     "output_type": "display_data"
    }
   ],
   "source": [
    "# Compute the correlation matrix\n",
    "corr = df[nums].corr()\n",
    "\n",
    "# Create a mask for the upper triangle\n",
    "mask = np.triu(np.ones_like(corr, dtype=bool))\n",
    "\n",
    "# Set up the matplotlib figure\n",
    "plt.figure(figsize=(10, 8))\n",
    "\n",
    "# Draw the heatmap with the mask and correct aspect ratio\n",
    "sns.heatmap(corr, mask=mask, cmap='coolwarm', vmax=1, center=0, annot=True,\n",
    "            square=True, linewidths=.5, cbar_kws={\"shrink\": .5})\n",
    "\n",
    "plt.show()\n"
   ]
  },
  {
   "cell_type": "markdown",
   "id": "f6a0eb3f",
   "metadata": {},
   "source": [
    "Analisa : \n",
    "- Terdapat dua Feature yang memiliki korelasi positif cukup tinggi yakni Feature CouponUsed dengan Feature OrderCount yang memiliki nilai sebesar 0.75\n",
    "- Terdapat juga dua Feature yang saling berkolerasi positif sedang dengan nilai 0.5 yakni Feature OrderCount dengan Feature DaySinceLastOrder. selian itu Feature Tenure dengan CashbackAmount juga memiliki korelasi positif sedang dengan nilai 0.48\n",
    "- Terdapat banyak Feature yang memiliki nilai korelasi low (nilainya mendekati 0) dalam hal ini secara umum dapat dikatakan bagus karena mungkin beberapa Feature tersebut dapat memberikan informasi - informasi yang unik untuk model machine learning yang akan digunakan. "
   ]
  },
  {
   "cell_type": "markdown",
   "id": "3a61dfc8",
   "metadata": {},
   "source": [
    "Action : \n",
    "- Mempertahankan beberapa fitur yang memiliki nilai korelasi yang tinggi seperti CouponUsed dengan OrderCount\n",
    "- Mempertimbangkan membuang fitur CustomerID, walaupun CustomerID memiliki nilai korelasi yang tinggi dengan HourSpendOnApp yakni sebesar 0.6 fitur ini masih akan dipertimbangkan untuk dibuang karena diyakini tidak memiliki hubungan antara keduanya. \n",
    "- Mempertimbangkan beberapa fitur seperti CouponUsed dengan OrderCount yang memiliki korelasi cukup tinggi, dipertimbangkan untuk menggabungkan kedua Feature tersebut menjadi satu fitur atau membuang salah satu Feature. "
   ]
  },
  {
   "cell_type": "markdown",
   "id": "f6e721a7",
   "metadata": {
    "tags": []
   },
   "source": [
    "# 4. Business Insight"
   ]
  },
  {
   "cell_type": "markdown",
   "id": "0b9cc324",
   "metadata": {},
   "source": [
    "Selain EDA, lakukan juga beberapa analisis dan visualisasi untuk menemukan suatu\n",
    "business insight. Tuliskan minimal 3 insight, dan berdasarkan insight tersebut jelaskan\n",
    "rekomendasinya untuk bisnis."
   ]
  },
  {
   "cell_type": "code",
   "execution_count": 22,
   "id": "63b5a3f2",
   "metadata": {},
   "outputs": [
    {
     "data": {
      "image/png": "[encoded data removed]",
      "text/plain": [
       "<Figure size 1440x1080 with 1 Axes>"
      ]
     },
     "metadata": {},
     "output_type": "display_data"
    }
   ],
   "source": [
    "# Hitung persentase Churn dan Stay di setiap Tenure\n",
    "tenure_churn_counts = df.groupby(['Tenure', 'Churn']).size().unstack()\n",
    "tenure_churn_percentage = (tenure_churn_counts.div(tenure_churn_counts.sum(axis=1), axis=0) * 100)\n",
    "\n",
    "# Gunakan Seaborn untuk membuat grafik batang bertumpuk dengan persentase\n",
    "sns.set(style=\"whitegrid\")\n",
    "ax = tenure_churn_percentage.plot(kind='bar', stacked=True, figsize=(20, 15))\n",
    "\n",
    "plt.xlabel('Tenure')\n",
    "plt.ylabel('Percentage')\n",
    "plt.title('Stacked Bar Chart of Tenure vs. Churn Percentage')\n",
    "\n",
    "# Tambahkan label pada legenda\n",
    "plt.legend(title='Churn', labels=['Stay', 'Churn'])\n",
    "\n",
    "# Tambahkan label angka pada setiap bar Churn dengan jarak antara bar\n",
    "for p in ax.patches[len(tenure_churn_counts):]:\n",
    "    width, height = p.get_width(), p.get_height()\n",
    "    x, y = p.get_xy()\n",
    "    ax.annotate(f'{height:.1f}%', (x + width/2, y + height - 5), ha='center', fontsize=10)\n",
    "\n",
    "# Tampilkan grafik\n",
    "plt.show()"
   ]
  },
  {
   "cell_type": "markdown",
   "id": "9774416d",
   "metadata": {},
   "source": [
    "### Observation & Insight:\n",
    "Customer dengan Tenure rendah (kurang dari 2 bulan) memiliki potensi churn jauh lebih tinggi daripada tenure menengah keatas. Terlihat dalam grafik tenure 0-1 bulan memiliki persentase churn yang paling tinggi sebesar 53,5%.Tenure 1-2 bulan memiliki persentase churn yang tinggi juga sebesar 50,6%. Sedangkan Tenure yang lebih dari 2 bulan memiliki sampai 21 bulan memiliki median sekitar 13,9%. Dari grafik juga terlihat customer yang memiliki tenure lebih dari sama dengan 22 bulan tidak ada customer yang Churn\n",
    "\n",
    "Berikut beberapa rekomendasi bisnis yang dapat membantu Anda memfokuskan upaya untuk menjaga pelanggan yang baru bergabung:\n",
    "\n",
    "1. Program Onboarding yang Efektif: Buatlah program onboarding yang efektif untuk pelanggan yang baru bergabung, dengan panduan langkah demi langkah yang memudahkan mereka dalam menggunakan aplikasi dan berbelanja. Sediakan bantuan dan dukungan pelanggan yang mudah diakses selama periode onboarding.\n",
    "\n",
    "2. Penawaran Spesial untuk Tenure Rendah: Berikan penawaran spesial, diskon, atau hadiah kepada pelanggan dengan tenure rendah untuk mendorong mereka berbelanja lebih banyak. Buatlah paket promosi khusus untuk produk-produk yang biasanya dibeli oleh pelanggan baru.\n",
    "\n",
    "3. Customer Engagement: Fokus pada customer engagement dengan mengirimkan email, notifikasi, atau pesan langsung yang memberikan informasi tentang produk, penawaran khusus, atau rekomendasi berdasarkan perilaku mereka.\n",
    "\n",
    "4. Program Loyalty: Implementasikan program loyalty yang memberikan insentif kepada pelanggan yang tetap berbelanja dengan Anda. Berikan poin atau diskon tambahan setelah pelanggan mencapai tenure tertentu. Berikan insentif kepada pelanggan yang mereferensikan teman atau keluarga untuk bergabung dengan aplikasi Anda."
   ]
  },
  {
   "cell_type": "code",
   "execution_count": 23,
   "id": "609b6442",
   "metadata": {},
   "outputs": [
    {
     "data": {
      "application/vnd.plotly.v1+json": {
       "config": {
        "plotlyServerURL": "https://plot.ly"
       },
       "data": [
        {
         "alignmentgroup": "True",
         "hovertemplate": "Customer Percentage=%{x}<br>Customer Complain=%{y}<br>Churn=%{marker.color}<extra></extra>",
         "legendgroup": "",
         "marker": {
          "color": [
           0,
           1,
           0,
           1
          ],
          "coloraxis": "coloraxis",
          "pattern": {
           "shape": ""
          }
         },
         "name": "",
         "offsetgroup": "",
         "orientation": "h",
         "showlegend": false,
         "textposition": "inside",
         "texttemplate": "%{value}",
         "type": "bar",
         "x": [
          89.07103825136612,
          10.92896174863388,
          68.3291770573566,
          31.67082294264339
         ],
         "xaxis": "x",
         "y": [
          "No",
          "No",
          "Yes",
          "Yes"
         ],
         "yaxis": "y"
        }
       ],
       "layout": {
        "barmode": "stack",
        "coloraxis": {
         "colorbar": {
          "title": {
           "text": "Churn"
          }
         },
         "colorscale": [
          [
           0,
           "#0d0887"
          ],
          [
           0.1111111111111111,
           "#46039f"
          ],
          [
           0.2222222222222222,
           "#7201a8"
          ],
          [
           0.3333333333333333,
           "#9c179e"
          ],
          [
           0.4444444444444444,
           "#bd3786"
          ],
          [
           0.5555555555555556,
           "#d8576b"
          ],
          [
           0.6666666666666666,
           "#ed7953"
          ],
          [
           0.7777777777777778,
           "#fb9f3a"
          ],
          [
           0.8888888888888888,
           "#fdca26"
          ],
          [
           1,
           "#f0f921"
          ]
         ]
        },
        "legend": {
         "tracegroupgap": 0
        },
        "template": {
         "data": {
          "bar": [
           {
            "error_x": {
             "color": "#2a3f5f"
            },
            "error_y": {
             "color": "#2a3f5f"
            },
            "marker": {
             "line": {
              "color": "#E5ECF6",
              "width": 0.5
             },
             "pattern": {
              "fillmode": "overlay",
              "size": 10,
              "solidity": 0.2
             }
            },
            "type": "bar"
           }
          ],
          "barpolar": [
           {
            "marker": {
             "line": {
              "color": "#E5ECF6",
              "width": 0.5
             },
             "pattern": {
              "fillmode": "overlay",
              "size": 10,
              "solidity": 0.2
             }
            },
            "type": "barpolar"
           }
          ],
          "carpet": [
           {
            "aaxis": {
             "endlinecolor": "#2a3f5f",
             "gridcolor": "white",
             "linecolor": "white",
             "minorgridcolor": "white",
             "startlinecolor": "#2a3f5f"
            },
            "baxis": {
             "endlinecolor": "#2a3f5f",
             "gridcolor": "white",
             "linecolor": "white",
             "minorgridcolor": "white",
             "startlinecolor": "#2a3f5f"
            },
            "type": "carpet"
           }
          ],
          "choropleth": [
           {
            "colorbar": {
             "outlinewidth": 0,
             "ticks": ""
            },
            "type": "choropleth"
           }
          ],
          "contour": [
           {
            "colorbar": {
             "outlinewidth": 0,
             "ticks": ""
            },
            "colorscale": [
             [
              0,
              "#0d0887"
             ],
             [
              0.1111111111111111,
              "#46039f"
             ],
             [
              0.2222222222222222,
              "#7201a8"
             ],
             [
              0.3333333333333333,
              "#9c179e"
             ],
             [
              0.4444444444444444,
              "#bd3786"
             ],
             [
              0.5555555555555556,
              "#d8576b"
             ],
             [
              0.6666666666666666,
              "#ed7953"
             ],
             [
              0.7777777777777778,
              "#fb9f3a"
             ],
             [
              0.8888888888888888,
              "#fdca26"
             ],
             [
              1,
              "#f0f921"
             ]
            ],
            "type": "contour"
           }
          ],
          "contourcarpet": [
           {
            "colorbar": {
             "outlinewidth": 0,
             "ticks": ""
            },
            "type": "contourcarpet"
           }
          ],
          "heatmap": [
           {
            "colorbar": {
             "outlinewidth": 0,
             "ticks": ""
            },
            "colorscale": [
             [
              0,
              "#0d0887"
             ],
             [
              0.1111111111111111,
              "#46039f"
             ],
             [
              0.2222222222222222,
              "#7201a8"
             ],
             [
              0.3333333333333333,
              "#9c179e"
             ],
             [
              0.4444444444444444,
              "#bd3786"
             ],
             [
              0.5555555555555556,
              "#d8576b"
             ],
             [
              0.6666666666666666,
              "#ed7953"
             ],
             [
              0.7777777777777778,
              "#fb9f3a"
             ],
             [
              0.8888888888888888,
              "#fdca26"
             ],
             [
              1,
              "#f0f921"
             ]
            ],
            "type": "heatmap"
           }
          ],
          "heatmapgl": [
           {
            "colorbar": {
             "outlinewidth": 0,
             "ticks": ""
            },
            "colorscale": [
             [
              0,
              "#0d0887"
             ],
             [
              0.1111111111111111,
              "#46039f"
             ],
             [
              0.2222222222222222,
              "#7201a8"
             ],
             [
              0.3333333333333333,
              "#9c179e"
             ],
             [
              0.4444444444444444,
              "#bd3786"
             ],
             [
              0.5555555555555556,
              "#d8576b"
             ],
             [
              0.6666666666666666,
              "#ed7953"
             ],
             [
              0.7777777777777778,
              "#fb9f3a"
             ],
             [
              0.8888888888888888,
              "#fdca26"
             ],
             [
              1,
              "#f0f921"
             ]
            ],
            "type": "heatmapgl"
           }
          ],
          "histogram": [
           {
            "marker": {
             "pattern": {
              "fillmode": "overlay",
              "size": 10,
              "solidity": 0.2
             }
            },
            "type": "histogram"
           }
          ],
          "histogram2d": [
           {
            "colorbar": {
             "outlinewidth": 0,
             "ticks": ""
            },
            "colorscale": [
             [
              0,
              "#0d0887"
             ],
             [
              0.1111111111111111,
              "#46039f"
             ],
             [
              0.2222222222222222,
              "#7201a8"
             ],
             [
              0.3333333333333333,
              "#9c179e"
             ],
             [
              0.4444444444444444,
              "#bd3786"
             ],
             [
              0.5555555555555556,
              "#d8576b"
             ],
             [
              0.6666666666666666,
              "#ed7953"
             ],
             [
              0.7777777777777778,
              "#fb9f3a"
             ],
             [
              0.8888888888888888,
              "#fdca26"
             ],
             [
              1,
              "#f0f921"
             ]
            ],
            "type": "histogram2d"
           }
          ],
          "histogram2dcontour": [
           {
            "colorbar": {
             "outlinewidth": 0,
             "ticks": ""
            },
            "colorscale": [
             [
              0,
              "#0d0887"
             ],
             [
              0.1111111111111111,
              "#46039f"
             ],
             [
              0.2222222222222222,
              "#7201a8"
             ],
             [
              0.3333333333333333,
              "#9c179e"
             ],
             [
              0.4444444444444444,
              "#bd3786"
             ],
             [
              0.5555555555555556,
              "#d8576b"
             ],
             [
              0.6666666666666666,
              "#ed7953"
             ],
             [
              0.7777777777777778,
              "#fb9f3a"
             ],
             [
              0.8888888888888888,
              "#fdca26"
             ],
             [
              1,
              "#f0f921"
             ]
            ],
            "type": "histogram2dcontour"
           }
          ],
          "mesh3d": [
           {
            "colorbar": {
             "outlinewidth": 0,
             "ticks": ""
            },
            "type": "mesh3d"
           }
          ],
          "parcoords": [
           {
            "line": {
             "colorbar": {
              "outlinewidth": 0,
              "ticks": ""
             }
            },
            "type": "parcoords"
           }
          ],
          "pie": [
           {
            "automargin": true,
            "type": "pie"
           }
          ],
          "scatter": [
           {
            "marker": {
             "colorbar": {
              "outlinewidth": 0,
              "ticks": ""
             }
            },
            "type": "scatter"
           }
          ],
          "scatter3d": [
           {
            "line": {
             "colorbar": {
              "outlinewidth": 0,
              "ticks": ""
             }
            },
            "marker": {
             "colorbar": {
              "outlinewidth": 0,
              "ticks": ""
             }
            },
            "type": "scatter3d"
           }
          ],
          "scattercarpet": [
           {
            "marker": {
             "colorbar": {
              "outlinewidth": 0,
              "ticks": ""
             }
            },
            "type": "scattercarpet"
           }
          ],
          "scattergeo": [
           {
            "marker": {
             "colorbar": {
              "outlinewidth": 0,
              "ticks": ""
             }
            },
            "type": "scattergeo"
           }
          ],
          "scattergl": [
           {
            "marker": {
             "colorbar": {
              "outlinewidth": 0,
              "ticks": ""
             }
            },
            "type": "scattergl"
           }
          ],
          "scattermapbox": [
           {
            "marker": {
             "colorbar": {
              "outlinewidth": 0,
              "ticks": ""
             }
            },
            "type": "scattermapbox"
           }
          ],
          "scatterpolar": [
           {
            "marker": {
             "colorbar": {
              "outlinewidth": 0,
              "ticks": ""
             }
            },
            "type": "scatterpolar"
           }
          ],
          "scatterpolargl": [
           {
            "marker": {
             "colorbar": {
              "outlinewidth": 0,
              "ticks": ""
             }
            },
            "type": "scatterpolargl"
           }
          ],
          "scatterternary": [
           {
            "marker": {
             "colorbar": {
              "outlinewidth": 0,
              "ticks": ""
             }
            },
            "type": "scatterternary"
           }
          ],
          "surface": [
           {
            "colorbar": {
             "outlinewidth": 0,
             "ticks": ""
            },
            "colorscale": [
             [
              0,
              "#0d0887"
             ],
             [
              0.1111111111111111,
              "#46039f"
             ],
             [
              0.2222222222222222,
              "#7201a8"
             ],
             [
              0.3333333333333333,
              "#9c179e"
             ],
             [
              0.4444444444444444,
              "#bd3786"
             ],
             [
              0.5555555555555556,
              "#d8576b"
             ],
             [
              0.6666666666666666,
              "#ed7953"
             ],
             [
              0.7777777777777778,
              "#fb9f3a"
             ],
             [
              0.8888888888888888,
              "#fdca26"
             ],
             [
              1,
              "#f0f921"
             ]
            ],
            "type": "surface"
           }
          ],
          "table": [
           {
            "cells": {
             "fill": {
              "color": "#EBF0F8"
             },
             "line": {
              "color": "white"
             }
            },
            "header": {
             "fill": {
              "color": "#C8D4E3"
             },
             "line": {
              "color": "white"
             }
            },
            "type": "table"
           }
          ]
         },
         "layout": {
          "annotationdefaults": {
           "arrowcolor": "#2a3f5f",
           "arrowhead": 0,
           "arrowwidth": 1
          },
          "autotypenumbers": "strict",
          "coloraxis": {
           "colorbar": {
            "outlinewidth": 0,
            "ticks": ""
           }
          },
          "colorscale": {
           "diverging": [
            [
             0,
             "#8e0152"
            ],
            [
             0.1,
             "#c51b7d"
            ],
            [
             0.2,
             "#de77ae"
            ],
            [
             0.3,
             "#f1b6da"
            ],
            [
             0.4,
             "#fde0ef"
            ],
            [
             0.5,
             "#f7f7f7"
            ],
            [
             0.6,
             "#e6f5d0"
            ],
            [
             0.7,
             "#b8e186"
            ],
            [
             0.8,
             "#7fbc41"
            ],
            [
             0.9,
             "#4d9221"
            ],
            [
             1,
             "#276419"
            ]
           ],
           "sequential": [
            [
             0,
             "#0d0887"
            ],
            [
             0.1111111111111111,
             "#46039f"
            ],
            [
             0.2222222222222222,
             "#7201a8"
            ],
            [
             0.3333333333333333,
             "#9c179e"
            ],
            [
             0.4444444444444444,
             "#bd3786"
            ],
            [
             0.5555555555555556,
             "#d8576b"
            ],
            [
             0.6666666666666666,
             "#ed7953"
            ],
            [
             0.7777777777777778,
             "#fb9f3a"
            ],
            [
             0.8888888888888888,
             "#fdca26"
            ],
            [
             1,
             "#f0f921"
            ]
           ],
           "sequentialminus": [
            [
             0,
             "#0d0887"
            ],
            [
             0.1111111111111111,
             "#46039f"
            ],
            [
             0.2222222222222222,
             "#7201a8"
            ],
            [
             0.3333333333333333,
             "#9c179e"
            ],
            [
             0.4444444444444444,
             "#bd3786"
            ],
            [
             0.5555555555555556,
             "#d8576b"
            ],
            [
             0.6666666666666666,
             "#ed7953"
            ],
            [
             0.7777777777777778,
             "#fb9f3a"
            ],
            [
             0.8888888888888888,
             "#fdca26"
            ],
            [
             1,
             "#f0f921"
            ]
           ]
          },
          "colorway": [
           "#636efa",
           "#EF553B",
           "#00cc96",
           "#ab63fa",
           "#FFA15A",
           "#19d3f3",
           "#FF6692",
           "#B6E880",
           "#FF97FF",
           "#FECB52"
          ],
          "font": {
           "color": "#2a3f5f"
          },
          "geo": {
           "bgcolor": "white",
           "lakecolor": "white",
           "landcolor": "#E5ECF6",
           "showlakes": true,
           "showland": true,
           "subunitcolor": "white"
          },
          "hoverlabel": {
           "align": "left"
          },
          "hovermode": "closest",
          "mapbox": {
           "style": "light"
          },
          "paper_bgcolor": "white",
          "plot_bgcolor": "#E5ECF6",
          "polar": {
           "angularaxis": {
            "gridcolor": "white",
            "linecolor": "white",
            "ticks": ""
           },
           "bgcolor": "#E5ECF6",
           "radialaxis": {
            "gridcolor": "white",
            "linecolor": "white",
            "ticks": ""
           }
          },
          "scene": {
           "xaxis": {
            "backgroundcolor": "#E5ECF6",
            "gridcolor": "white",
            "gridwidth": 2,
            "linecolor": "white",
            "showbackground": true,
            "ticks": "",
            "zerolinecolor": "white"
           },
           "yaxis": {
            "backgroundcolor": "#E5ECF6",
            "gridcolor": "white",
            "gridwidth": 2,
            "linecolor": "white",
            "showbackground": true,
            "ticks": "",
            "zerolinecolor": "white"
           },
           "zaxis": {
            "backgroundcolor": "#E5ECF6",
            "gridcolor": "white",
            "gridwidth": 2,
            "linecolor": "white",
            "showbackground": true,
            "ticks": "",
            "zerolinecolor": "white"
           }
          },
          "shapedefaults": {
           "line": {
            "color": "#2a3f5f"
           }
          },
          "ternary": {
           "aaxis": {
            "gridcolor": "white",
            "linecolor": "white",
            "ticks": ""
           },
           "baxis": {
            "gridcolor": "white",
            "linecolor": "white",
            "ticks": ""
           },
           "bgcolor": "#E5ECF6",
           "caxis": {
            "gridcolor": "white",
            "linecolor": "white",
            "ticks": ""
           }
          },
          "title": {
           "x": 0.05
          },
          "xaxis": {
           "automargin": true,
           "gridcolor": "white",
           "linecolor": "white",
           "ticks": "",
           "title": {
            "standoff": 15
           },
           "zerolinecolor": "white",
           "zerolinewidth": 2
          },
          "yaxis": {
           "automargin": true,
           "gridcolor": "white",
           "linecolor": "white",
           "ticks": "",
           "title": {
            "standoff": 15
           },
           "zerolinecolor": "white",
           "zerolinewidth": 2
          }
         }
        },
        "title": {
         "text": "Horizontal Percentage Stacked Bar Chart of Customers by Complain and Churn"
        },
        "xaxis": {
         "anchor": "y",
         "domain": [
          0,
          1
         ],
         "title": {
          "text": "Customer Percentage (%)"
         }
        },
        "yaxis": {
         "anchor": "x",
         "domain": [
          0,
          1
         ],
         "title": {
          "text": "Customer Complain"
         }
        }
       }
      }
     },
     "metadata": {},
     "output_type": "display_data"
    }
   ],
   "source": [
    "df['Complain'] = df['Complain'].map({0: 'No', 1: 'Yes'})\n",
    "\n",
    "# Group the data by 'Complain', 'Churn', and count the number of occurrences\n",
    "grouped_data = df.groupby(['Complain', 'Churn']).size().reset_index(name='Count')\n",
    "\n",
    "# Calculate the percentage of customers in each stack\n",
    "grouped_data['Percentage'] = grouped_data['Count'] / grouped_data.groupby('Complain')['Count'].transform('sum') * 100\n",
    "\n",
    "# Plot the horizontal percentage stacked bar chart\n",
    "fig = px.bar(grouped_data, x='Percentage', y='Complain', orientation='h', color='Churn',\n",
    "             title='Horizontal Percentage Stacked Bar Chart of Customers by Complain and Churn',\n",
    "             color_discrete_sequence=['#3A506B', '#BA1F33'],\n",
    "             labels={'Complain': 'Customer Complain', 'Percentage': 'Customer Percentage'})\n",
    "\n",
    "# Customize the plot\n",
    "fig.update_layout(barmode='stack')\n",
    "fig.update_traces(texttemplate='%{value}', textposition='inside')\n",
    "fig.update_xaxes(title_text='Customer Percentage (%)')\n",
    "fig.update_yaxes(title_text='Customer Complain')\n",
    "\n",
    "fig.show()"
   ]
  },
  {
   "cell_type": "markdown",
   "id": "28206db5",
   "metadata": {},
   "source": [
    "### Observation & Insight:\n",
    "Persentase churn akibat customer complain (31.67%) hampir 3 kali lebih besar dari\n",
    "persentase churn dari total customer yang tidak complain (10.92%)\n",
    "\n",
    "\n",
    "upaya bisnis Anda pada mengurangi jumlah pelanggan yang mengajukan komplain dengan strategi berikut:\n",
    "1. Analisis dan Perbaikan Pengalaman Pelanggan: Lakukan survei pelanggan dan analisis lebih lanjut untuk memahami penyebab komplain pelanggan. Identifikasi masalah umum dan tindakan korektif yang diperlukan. Tingkatkan pengalaman pelanggan dengan memastikan website atau aplikasi mudah digunakan, proses pembayaran yang lancar, dan pelayanan pelanggan yang responsif.\n",
    "\n",
    "2. Pemantauan dan Umpan Balik: Pantau secara rutin umpan balik pelanggan dan komplain yang masuk. Gunakan data ini untuk terus meningkatkan produk dan layanan Anda. Tanggapi komplain dengan cepat dan efisien, dan berikan resolusi yang memuaskan kepada pelanggan.\n",
    "\n",
    "3. Transparansi dan Komunikasi: Jalin komunikasi terbuka dengan pelanggan. Berikan informasi yang jelas tentang produk, harga, dan kebijakan pengembalian barang. Berikan pembaruan kepada pelanggan jika terjadi keterlambatan pengiriman atau perubahan kebijakan penting lainnya."
   ]
  },
  {
   "cell_type": "code",
   "execution_count": 24,
   "id": "915cbdb2",
   "metadata": {},
   "outputs": [
    {
     "data": {
      "application/vnd.plotly.v1+json": {
       "config": {
        "plotlyServerURL": "https://plot.ly"
       },
       "data": [
        {
         "alignmentgroup": "True",
         "hovertemplate": "Customer Count=%{x}<br>Order Category=%{y}<br>Churn=%{marker.color}<extra></extra>",
         "legendgroup": "",
         "marker": {
          "color": [
           0,
           1,
           0,
           1,
           0,
           1,
           0,
           1,
           0,
           1,
           0,
           1
          ],
          "coloraxis": "coloraxis",
          "pattern": {
           "shape": ""
          }
         },
         "name": "",
         "offsetgroup": "",
         "orientation": "h",
         "showlegend": false,
         "textposition": "inside",
         "texttemplate": "%{value}",
         "type": "bar",
         "x": [
          698,
          128,
          390,
          20,
          1840,
          210,
          589,
          220,
          921,
          350,
          244,
          20
         ],
         "xaxis": "x",
         "y": [
          "Fashion",
          "Fashion",
          "Grocery",
          "Grocery",
          "Laptop & Accessory",
          "Laptop & Accessory",
          "Mobile",
          "Mobile",
          "Mobile Phone",
          "Mobile Phone",
          "Others",
          "Others"
         ],
         "yaxis": "y"
        }
       ],
       "layout": {
        "barmode": "stack",
        "coloraxis": {
         "colorbar": {
          "title": {
           "text": "Churn"
          }
         },
         "colorscale": [
          [
           0,
           "#0d0887"
          ],
          [
           0.1111111111111111,
           "#46039f"
          ],
          [
           0.2222222222222222,
           "#7201a8"
          ],
          [
           0.3333333333333333,
           "#9c179e"
          ],
          [
           0.4444444444444444,
           "#bd3786"
          ],
          [
           0.5555555555555556,
           "#d8576b"
          ],
          [
           0.6666666666666666,
           "#ed7953"
          ],
          [
           0.7777777777777778,
           "#fb9f3a"
          ],
          [
           0.8888888888888888,
           "#fdca26"
          ],
          [
           1,
           "#f0f921"
          ]
         ]
        },
        "legend": {
         "tracegroupgap": 0
        },
        "template": {
         "data": {
          "bar": [
           {
            "error_x": {
             "color": "#2a3f5f"
            },
            "error_y": {
             "color": "#2a3f5f"
            },
            "marker": {
             "line": {
              "color": "#E5ECF6",
              "width": 0.5
             },
             "pattern": {
              "fillmode": "overlay",
              "size": 10,
              "solidity": 0.2
             }
            },
            "type": "bar"
           }
          ],
          "barpolar": [
           {
            "marker": {
             "line": {
              "color": "#E5ECF6",
              "width": 0.5
             },
             "pattern": {
              "fillmode": "overlay",
              "size": 10,
              "solidity": 0.2
             }
            },
            "type": "barpolar"
           }
          ],
          "carpet": [
           {
            "aaxis": {
             "endlinecolor": "#2a3f5f",
             "gridcolor": "white",
             "linecolor": "white",
             "minorgridcolor": "white",
             "startlinecolor": "#2a3f5f"
            },
            "baxis": {
             "endlinecolor": "#2a3f5f",
             "gridcolor": "white",
             "linecolor": "white",
             "minorgridcolor": "white",
             "startlinecolor": "#2a3f5f"
            },
            "type": "carpet"
           }
          ],
          "choropleth": [
           {
            "colorbar": {
             "outlinewidth": 0,
             "ticks": ""
            },
            "type": "choropleth"
           }
          ],
          "contour": [
           {
            "colorbar": {
             "outlinewidth": 0,
             "ticks": ""
            },
            "colorscale": [
             [
              0,
              "#0d0887"
             ],
             [
              0.1111111111111111,
              "#46039f"
             ],
             [
              0.2222222222222222,
              "#7201a8"
             ],
             [
              0.3333333333333333,
              "#9c179e"
             ],
             [
              0.4444444444444444,
              "#bd3786"
             ],
             [
              0.5555555555555556,
              "#d8576b"
             ],
             [
              0.6666666666666666,
              "#ed7953"
             ],
             [
              0.7777777777777778,
              "#fb9f3a"
             ],
             [
              0.8888888888888888,
              "#fdca26"
             ],
             [
              1,
              "#f0f921"
             ]
            ],
            "type": "contour"
           }
          ],
          "contourcarpet": [
           {
            "colorbar": {
             "outlinewidth": 0,
             "ticks": ""
            },
            "type": "contourcarpet"
           }
          ],
          "heatmap": [
           {
            "colorbar": {
             "outlinewidth": 0,
             "ticks": ""
            },
            "colorscale": [
             [
              0,
              "#0d0887"
             ],
             [
              0.1111111111111111,
              "#46039f"
             ],
             [
              0.2222222222222222,
              "#7201a8"
             ],
             [
              0.3333333333333333,
              "#9c179e"
             ],
             [
              0.4444444444444444,
              "#bd3786"
             ],
             [
              0.5555555555555556,
              "#d8576b"
             ],
             [
              0.6666666666666666,
              "#ed7953"
             ],
             [
              0.7777777777777778,
              "#fb9f3a"
             ],
             [
              0.8888888888888888,
              "#fdca26"
             ],
             [
              1,
              "#f0f921"
             ]
            ],
            "type": "heatmap"
           }
          ],
          "heatmapgl": [
           {
            "colorbar": {
             "outlinewidth": 0,
             "ticks": ""
            },
            "colorscale": [
             [
              0,
              "#0d0887"
             ],
             [
              0.1111111111111111,
              "#46039f"
             ],
             [
              0.2222222222222222,
              "#7201a8"
             ],
             [
              0.3333333333333333,
              "#9c179e"
             ],
             [
              0.4444444444444444,
              "#bd3786"
             ],
             [
              0.5555555555555556,
              "#d8576b"
             ],
             [
              0.6666666666666666,
              "#ed7953"
             ],
             [
              0.7777777777777778,
              "#fb9f3a"
             ],
             [
              0.8888888888888888,
              "#fdca26"
             ],
             [
              1,
              "#f0f921"
             ]
            ],
            "type": "heatmapgl"
           }
          ],
          "histogram": [
           {
            "marker": {
             "pattern": {
              "fillmode": "overlay",
              "size": 10,
              "solidity": 0.2
             }
            },
            "type": "histogram"
           }
          ],
          "histogram2d": [
           {
            "colorbar": {
             "outlinewidth": 0,
             "ticks": ""
            },
            "colorscale": [
             [
              0,
              "#0d0887"
             ],
             [
              0.1111111111111111,
              "#46039f"
             ],
             [
              0.2222222222222222,
              "#7201a8"
             ],
             [
              0.3333333333333333,
              "#9c179e"
             ],
             [
              0.4444444444444444,
              "#bd3786"
             ],
             [
              0.5555555555555556,
              "#d8576b"
             ],
             [
              0.6666666666666666,
              "#ed7953"
             ],
             [
              0.7777777777777778,
              "#fb9f3a"
             ],
             [
              0.8888888888888888,
              "#fdca26"
             ],
             [
              1,
              "#f0f921"
             ]
            ],
            "type": "histogram2d"
           }
          ],
          "histogram2dcontour": [
           {
            "colorbar": {
             "outlinewidth": 0,
             "ticks": ""
            },
            "colorscale": [
             [
              0,
              "#0d0887"
             ],
             [
              0.1111111111111111,
              "#46039f"
             ],
             [
              0.2222222222222222,
              "#7201a8"
             ],
             [
              0.3333333333333333,
              "#9c179e"
             ],
             [
              0.4444444444444444,
              "#bd3786"
             ],
             [
              0.5555555555555556,
              "#d8576b"
             ],
             [
              0.6666666666666666,
              "#ed7953"
             ],
             [
              0.7777777777777778,
              "#fb9f3a"
             ],
             [
              0.8888888888888888,
              "#fdca26"
             ],
             [
              1,
              "#f0f921"
             ]
            ],
            "type": "histogram2dcontour"
           }
          ],
          "mesh3d": [
           {
            "colorbar": {
             "outlinewidth": 0,
             "ticks": ""
            },
            "type": "mesh3d"
           }
          ],
          "parcoords": [
           {
            "line": {
             "colorbar": {
              "outlinewidth": 0,
              "ticks": ""
             }
            },
            "type": "parcoords"
           }
          ],
          "pie": [
           {
            "automargin": true,
            "type": "pie"
           }
          ],
          "scatter": [
           {
            "marker": {
             "colorbar": {
              "outlinewidth": 0,
              "ticks": ""
             }
            },
            "type": "scatter"
           }
          ],
          "scatter3d": [
           {
            "line": {
             "colorbar": {
              "outlinewidth": 0,
              "ticks": ""
             }
            },
            "marker": {
             "colorbar": {
              "outlinewidth": 0,
              "ticks": ""
             }
            },
            "type": "scatter3d"
           }
          ],
          "scattercarpet": [
           {
            "marker": {
             "colorbar": {
              "outlinewidth": 0,
              "ticks": ""
             }
            },
            "type": "scattercarpet"
           }
          ],
          "scattergeo": [
           {
            "marker": {
             "colorbar": {
              "outlinewidth": 0,
              "ticks": ""
             }
            },
            "type": "scattergeo"
           }
          ],
          "scattergl": [
           {
            "marker": {
             "colorbar": {
              "outlinewidth": 0,
              "ticks": ""
             }
            },
            "type": "scattergl"
           }
          ],
          "scattermapbox": [
           {
            "marker": {
             "colorbar": {
              "outlinewidth": 0,
              "ticks": ""
             }
            },
            "type": "scattermapbox"
           }
          ],
          "scatterpolar": [
           {
            "marker": {
             "colorbar": {
              "outlinewidth": 0,
              "ticks": ""
             }
            },
            "type": "scatterpolar"
           }
          ],
          "scatterpolargl": [
           {
            "marker": {
             "colorbar": {
              "outlinewidth": 0,
              "ticks": ""
             }
            },
            "type": "scatterpolargl"
           }
          ],
          "scatterternary": [
           {
            "marker": {
             "colorbar": {
              "outlinewidth": 0,
              "ticks": ""
             }
            },
            "type": "scatterternary"
           }
          ],
          "surface": [
           {
            "colorbar": {
             "outlinewidth": 0,
             "ticks": ""
            },
            "colorscale": [
             [
              0,
              "#0d0887"
             ],
             [
              0.1111111111111111,
              "#46039f"
             ],
             [
              0.2222222222222222,
              "#7201a8"
             ],
             [
              0.3333333333333333,
              "#9c179e"
             ],
             [
              0.4444444444444444,
              "#bd3786"
             ],
             [
              0.5555555555555556,
              "#d8576b"
             ],
             [
              0.6666666666666666,
              "#ed7953"
             ],
             [
              0.7777777777777778,
              "#fb9f3a"
             ],
             [
              0.8888888888888888,
              "#fdca26"
             ],
             [
              1,
              "#f0f921"
             ]
            ],
            "type": "surface"
           }
          ],
          "table": [
           {
            "cells": {
             "fill": {
              "color": "#EBF0F8"
             },
             "line": {
              "color": "white"
             }
            },
            "header": {
             "fill": {
              "color": "#C8D4E3"
             },
             "line": {
              "color": "white"
             }
            },
            "type": "table"
           }
          ]
         },
         "layout": {
          "annotationdefaults": {
           "arrowcolor": "#2a3f5f",
           "arrowhead": 0,
           "arrowwidth": 1
          },
          "autotypenumbers": "strict",
          "coloraxis": {
           "colorbar": {
            "outlinewidth": 0,
            "ticks": ""
           }
          },
          "colorscale": {
           "diverging": [
            [
             0,
             "#8e0152"
            ],
            [
             0.1,
             "#c51b7d"
            ],
            [
             0.2,
             "#de77ae"
            ],
            [
             0.3,
             "#f1b6da"
            ],
            [
             0.4,
             "#fde0ef"
            ],
            [
             0.5,
             "#f7f7f7"
            ],
            [
             0.6,
             "#e6f5d0"
            ],
            [
             0.7,
             "#b8e186"
            ],
            [
             0.8,
             "#7fbc41"
            ],
            [
             0.9,
             "#4d9221"
            ],
            [
             1,
             "#276419"
            ]
           ],
           "sequential": [
            [
             0,
             "#0d0887"
            ],
            [
             0.1111111111111111,
             "#46039f"
            ],
            [
             0.2222222222222222,
             "#7201a8"
            ],
            [
             0.3333333333333333,
             "#9c179e"
            ],
            [
             0.4444444444444444,
             "#bd3786"
            ],
            [
             0.5555555555555556,
             "#d8576b"
            ],
            [
             0.6666666666666666,
             "#ed7953"
            ],
            [
             0.7777777777777778,
             "#fb9f3a"
            ],
            [
             0.8888888888888888,
             "#fdca26"
            ],
            [
             1,
             "#f0f921"
            ]
           ],
           "sequentialminus": [
            [
             0,
             "#0d0887"
            ],
            [
             0.1111111111111111,
             "#46039f"
            ],
            [
             0.2222222222222222,
             "#7201a8"
            ],
            [
             0.3333333333333333,
             "#9c179e"
            ],
            [
             0.4444444444444444,
             "#bd3786"
            ],
            [
             0.5555555555555556,
             "#d8576b"
            ],
            [
             0.6666666666666666,
             "#ed7953"
            ],
            [
             0.7777777777777778,
             "#fb9f3a"
            ],
            [
             0.8888888888888888,
             "#fdca26"
            ],
            [
             1,
             "#f0f921"
            ]
           ]
          },
          "colorway": [
           "#636efa",
           "#EF553B",
           "#00cc96",
           "#ab63fa",
           "#FFA15A",
           "#19d3f3",
           "#FF6692",
           "#B6E880",
           "#FF97FF",
           "#FECB52"
          ],
          "font": {
           "color": "#2a3f5f"
          },
          "geo": {
           "bgcolor": "white",
           "lakecolor": "white",
           "landcolor": "#E5ECF6",
           "showlakes": true,
           "showland": true,
           "subunitcolor": "white"
          },
          "hoverlabel": {
           "align": "left"
          },
          "hovermode": "closest",
          "mapbox": {
           "style": "light"
          },
          "paper_bgcolor": "white",
          "plot_bgcolor": "#E5ECF6",
          "polar": {
           "angularaxis": {
            "gridcolor": "white",
            "linecolor": "white",
            "ticks": ""
           },
           "bgcolor": "#E5ECF6",
           "radialaxis": {
            "gridcolor": "white",
            "linecolor": "white",
            "ticks": ""
           }
          },
          "scene": {
           "xaxis": {
            "backgroundcolor": "#E5ECF6",
            "gridcolor": "white",
            "gridwidth": 2,
            "linecolor": "white",
            "showbackground": true,
            "ticks": "",
            "zerolinecolor": "white"
           },
           "yaxis": {
            "backgroundcolor": "#E5ECF6",
            "gridcolor": "white",
            "gridwidth": 2,
            "linecolor": "white",
            "showbackground": true,
            "ticks": "",
            "zerolinecolor": "white"
           },
           "zaxis": {
            "backgroundcolor": "#E5ECF6",
            "gridcolor": "white",
            "gridwidth": 2,
            "linecolor": "white",
            "showbackground": true,
            "ticks": "",
            "zerolinecolor": "white"
           }
          },
          "shapedefaults": {
           "line": {
            "color": "#2a3f5f"
           }
          },
          "ternary": {
           "aaxis": {
            "gridcolor": "white",
            "linecolor": "white",
            "ticks": ""
           },
           "baxis": {
            "gridcolor": "white",
            "linecolor": "white",
            "ticks": ""
           },
           "bgcolor": "#E5ECF6",
           "caxis": {
            "gridcolor": "white",
            "linecolor": "white",
            "ticks": ""
           }
          },
          "title": {
           "x": 0.05
          },
          "xaxis": {
           "automargin": true,
           "gridcolor": "white",
           "linecolor": "white",
           "ticks": "",
           "title": {
            "standoff": 15
           },
           "zerolinecolor": "white",
           "zerolinewidth": 2
          },
          "yaxis": {
           "automargin": true,
           "gridcolor": "white",
           "linecolor": "white",
           "ticks": "",
           "title": {
            "standoff": 15
           },
           "zerolinecolor": "white",
           "zerolinewidth": 2
          }
         }
        },
        "title": {
         "text": "Horizontal Stacked Bar Chart of Prefer Order Category and Churn"
        },
        "xaxis": {
         "anchor": "y",
         "domain": [
          0,
          1
         ],
         "title": {
          "text": "Customer Count"
         }
        },
        "yaxis": {
         "anchor": "x",
         "domain": [
          0,
          1
         ],
         "title": {
          "text": "Order Category"
         }
        }
       }
      }
     },
     "metadata": {},
     "output_type": "display_data"
    }
   ],
   "source": [
    "grouped_data = df.groupby(['PreferedOrderCat', 'Churn']).size().reset_index(name='Count')\n",
    "\n",
    "# Plot the histogram\n",
    "fig = px.bar(grouped_data, x='Count', y='PreferedOrderCat', orientation='h', color='Churn',\n",
    "             title='Horizontal Stacked Bar Chart of Prefer Order Category and Churn',\n",
    "             color_discrete_sequence=['#3A506B', '#BA1F33'],\n",
    "             labels={'PreferedOrderCat': 'Order Category', 'Count': 'Customer Count'})\n",
    "\n",
    "# Customize the plot\n",
    "fig.update_layout(barmode='stack')\n",
    "fig.update_traces(texttemplate='%{value}', textposition='inside')\n",
    "fig.update_xaxes(title_text='Customer Count')\n",
    "fig.update_yaxes(title_text='Order Category')\n",
    "\n",
    "fig.show()"
   ]
  },
  {
   "cell_type": "markdown",
   "id": "1cbe1508",
   "metadata": {},
   "source": [
    "## Observation & Insight:\n",
    "Customer yang mengorder kategori Mobile Phone dan Phone cenderung untuk churn,\n",
    "dengan persentase sebesar 27.53% untuk Mobile Phone dan 27.19% untuk Phone. Jika\n",
    "dibandingkan dengan customer yang mengorder kategori barang lainnya\n",
    "\n",
    "Ada beberapa strategi yang dapat membantu Anda mengurangi churn pelanggan di masa yang akan datang:\n",
    "1. Optimalkan Pengalaman Pelanggan untuk Kategori \"Mobile Phone\", \"Mobile\", dan \"Laptop & Accessory\": Identifikasi masalah yang umum terjadi dalam kategori ini, seperti pengiriman yang lambat, kualitas produk yang rendah, atau pelayanan pelanggan yang kurang baik. Tingkatkan pengalaman pelanggan dengan memastikan produk dalam kategori ini berkualitas tinggi, pelayanan pelanggan yang responsif, dan proses pengiriman yang cepat.\n",
    "\n",
    "2. Tawarkan Promosi Khusus untuk Kategori \"Grocery\" dan \"Others\": Meskipun kategori \"Grocery\" dan \"Others\" memiliki tingkat churn yang rendah, Anda dapat mempertimbangkan untuk menawarkan promosi khusus, diskon, atau insentif kepada pelanggan yang membeli produk dalam kategori ini. Ini dapat meningkatkan loyalitas pelanggan."
   ]
  }
 ],
 "metadata": {
  "kernelspec": {
   "display_name": "Python 3 (ipykernel)",
   "language": "python",
   "name": "python3"
  },
  "language_info": {
   "codemirror_mode": {
    "name": "ipython",
    "version": 3
   },
   "file_extension": ".py",
   "mimetype": "text/x-python",
   "name": "python",
   "nbconvert_exporter": "python",
   "pygments_lexer": "ipython3",
   "version": "3.9.12"
  }
 },
 "nbformat": 4,
 "nbformat_minor": 5
}
